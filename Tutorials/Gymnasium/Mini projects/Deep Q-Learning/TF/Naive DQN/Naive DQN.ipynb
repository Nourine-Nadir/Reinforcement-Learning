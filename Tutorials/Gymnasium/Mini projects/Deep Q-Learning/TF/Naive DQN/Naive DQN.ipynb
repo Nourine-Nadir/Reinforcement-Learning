{
 "cells": [
  {
   "cell_type": "code",
   "execution_count": 23,
   "id": "initial_id",
   "metadata": {
    "collapsed": true,
    "ExecuteTime": {
     "end_time": "2024-08-04T11:27:22.689035100Z",
     "start_time": "2024-08-04T11:27:22.684034200Z"
    }
   },
   "outputs": [],
   "source": [
    "import gymnasium as gym\n",
    "import numpy as np\n",
    "import matplotlib.pyplot as plt\n",
    "import tensorflow as tf\n",
    "from tensorflow import keras\n",
    "from keras import layers"
   ]
  },
  {
   "cell_type": "code",
   "outputs": [],
   "source": [
    "physical_devices = tf.config.list_physical_devices('GPU')\n",
    "if physical_devices:\n",
    "    try:\n",
    "        tf.config.experimental.set_memory_growth(physical_devices[0], True)\n",
    "    except RuntimeError as e:\n",
    "        print(e)"
   ],
   "metadata": {
    "collapsed": false,
    "ExecuteTime": {
     "end_time": "2024-08-04T11:27:22.711612800Z",
     "start_time": "2024-08-04T11:27:22.700050200Z"
    }
   },
   "id": "948a80f02f2787d1",
   "execution_count": 24
  },
  {
   "cell_type": "code",
   "outputs": [],
   "source": [
    "class LinearDeepQNetwork(keras.Model):\n",
    "    def __init__(self,\n",
    "                 lr,\n",
    "                 n_actions,\n",
    "                 input_dims):\n",
    "        super(LinearDeepQNetwork, self).__init__()\n",
    "        \n",
    "        self.fc1 = layers.Dense(128, activation='relu', input_shape=input_dims)\n",
    "        self.fc2 = layers.Dense( n_actions, activation=None)\n",
    "        self.flatten = layers.Flatten() \n",
    "        self.optimizer = keras.optimizers.Adam(learning_rate=lr)\n",
    "        self.loss = keras.losses.MeanSquaredError()\n",
    "    \n",
    "    def call(self, inputs, training=False, **kwargs):\n",
    "        with tf.device('/GPU:0'):  \n",
    "\n",
    "            x = self.fc1(inputs)\n",
    "            x = self.fc2(x)\n",
    "            return x"
   ],
   "metadata": {
    "collapsed": false,
    "ExecuteTime": {
     "end_time": "2024-08-04T11:27:22.719631800Z",
     "start_time": "2024-08-04T11:27:22.716115500Z"
    }
   },
   "id": "6e305f56b3d419c6",
   "execution_count": 25
  },
  {
   "cell_type": "code",
   "outputs": [],
   "source": [
    "class Agent():\n",
    "    def __init__(self,\n",
    "                 input_dims,\n",
    "                 n_actions,\n",
    "                 gamma=0.99,\n",
    "                 lr=0.0001,\n",
    "                 initial_epsilon=1,\n",
    "                 epsilon_decay=1e-4,\n",
    "                 final_epsilon=0.01):\n",
    "        self.lr = lr\n",
    "        self.n_actions = n_actions\n",
    "        self.input_dims = input_dims\n",
    "        self.gamma = gamma\n",
    "        self.epsilon = initial_epsilon\n",
    "        self.epsilon_decay = epsilon_decay\n",
    "        self.final_epsilon = final_epsilon\n",
    "        self.action_space = [i for i in range(self.n_actions)]\n",
    "        \n",
    "        self.Q = LinearDeepQNetwork(self.lr, self.n_actions, self.input_dims)\n",
    "        \n",
    "    def choose_action(self, obs):\n",
    "            if np.random.random() > self.epsilon:\n",
    "                state = tf.convert_to_tensor([obs], dtype=tf.float32)\n",
    "                actions = self.Q(state)\n",
    "                actions = tf.squeeze(actions)\n",
    "                action = tf.argmax(actions)\n",
    "                # print('All Actions: ', actions)\n",
    "                # print('Selected Action: ', action.numpy())\n",
    "                action = int(action.numpy())\n",
    "            else:\n",
    "                action = np.random.choice(self.action_space)\n",
    "            \n",
    "            return action\n",
    "    \n",
    "    def decrement_epsilon(self):\n",
    "        self.epsilon = max(self.final_epsilon, self.epsilon - self.epsilon_decay)\n",
    "        \n",
    "    def learn(self, state, action, reward, next_state):\n",
    "        with tf.GradientTape() as tape:\n",
    "            states = tf.convert_to_tensor([state], dtype=tf.float32)\n",
    "            actions = tf.convert_to_tensor([action], dtype=tf.int32)\n",
    "            rewards = tf.convert_to_tensor([reward], dtype=tf.float32)\n",
    "            next_states = tf.convert_to_tensor([next_state], dtype=tf.float32)\n",
    "            \n",
    "            # print(f'states {states.shape}, next_states {next_states.shape}')\n",
    "            q_pred = self.Q.call(states)\n",
    "#             print(f'q_pred: {q_pred.shape}')\n",
    "            q_next = tf.reduce_max(self.Q.call(next_states))\n",
    "            q_next_max = tf.reduce_max(q_next)\n",
    "            # print(f'q_next_max: {q_next_max.shape}')        \n",
    "            q_target = rewards + self.gamma * q_next_max\n",
    "            # print(f'q_target: {q_target.shape}')\n",
    "            loss = self.Q.loss(q_pred, q_target)\n",
    "            \n",
    "        gradients = tape.gradient(loss, self.Q.trainable_weights)\n",
    "        self.Q.optimizer.apply_gradients(zip(gradients, self.Q.trainable_weights))\n",
    "        self.decrement_epsilon()"
   ],
   "metadata": {
    "collapsed": false,
    "ExecuteTime": {
     "end_time": "2024-08-04T11:27:22.739753900Z",
     "start_time": "2024-08-04T11:27:22.735237600Z"
    }
   },
   "id": "3a06b59178cb0b87",
   "execution_count": 26
  },
  {
   "cell_type": "code",
   "outputs": [
    {
     "name": "stdout",
     "output_type": "stream",
     "text": [
      "Episode 0 score 16.0 avg score 16.0 epsilon 0.998\n",
      "Episode 100 score 13.0 avg score 22.2 epsilon 0.776\n",
      "Episode 200 score 16.0 avg score 22.7 epsilon 0.550\n",
      "Episode 300 score 11.0 avg score 22.8 epsilon 0.322\n",
      "Episode 400 score 13.0 avg score 23.2 epsilon 0.089\n",
      "Episode 500 score 13.0 avg score 23.9 epsilon 0.010\n",
      "Episode 600 score 14.0 avg score 26.5 epsilon 0.010\n",
      "Episode 700 score 52.0 avg score 26.6 epsilon 0.010\n",
      "Episode 800 score 51.0 avg score 25.9 epsilon 0.010\n",
      "Episode 900 score 25.0 avg score 26.7 epsilon 0.010\n",
      "Episode 1000 score 27.0 avg score 25.6 epsilon 0.010\n",
      "Episode 1100 score 10.0 avg score 27.4 epsilon 0.010\n",
      "Episode 1200 score 9.0 avg score 27.2 epsilon 0.010\n",
      "Episode 1300 score 36.0 avg score 27.1 epsilon 0.010\n",
      "Episode 1400 score 18.0 avg score 27.9 epsilon 0.010\n",
      "Episode 1500 score 10.0 avg score 26.2 epsilon 0.010\n",
      "Episode 1600 score 23.0 avg score 27.9 epsilon 0.010\n",
      "Episode 1700 score 31.0 avg score 30.3 epsilon 0.010\n",
      "Episode 1800 score 13.0 avg score 24.9 epsilon 0.010\n",
      "Episode 1900 score 13.0 avg score 27.8 epsilon 0.010\n",
      "Episode 2000 score 10.0 avg score 26.5 epsilon 0.010\n",
      "Episode 2100 score 19.0 avg score 26.2 epsilon 0.010\n",
      "Episode 2200 score 23.0 avg score 26.1 epsilon 0.010\n",
      "Episode 2300 score 32.0 avg score 28.2 epsilon 0.010\n",
      "Episode 2400 score 37.0 avg score 28.7 epsilon 0.010\n",
      "Episode 2500 score 12.0 avg score 29.2 epsilon 0.010\n"
     ]
    },
    {
     "ename": "KeyboardInterrupt",
     "evalue": "",
     "output_type": "error",
     "traceback": [
      "\u001B[1;31m---------------------------------------------------------------------------\u001B[0m",
      "\u001B[1;31mKeyboardInterrupt\u001B[0m                         Traceback (most recent call last)",
      "\u001B[1;32m~\\AppData\\Local\\Temp\\ipykernel_10064\\1307750435.py\u001B[0m in \u001B[0;36m?\u001B[1;34m()\u001B[0m\n\u001B[0;32m     18\u001B[0m             \u001B[1;32mwhile\u001B[0m \u001B[1;32mnot\u001B[0m \u001B[0mdone\u001B[0m\u001B[1;33m:\u001B[0m\u001B[1;33m\u001B[0m\u001B[1;33m\u001B[0m\u001B[0m\n\u001B[0;32m     19\u001B[0m                 \u001B[0maction\u001B[0m \u001B[1;33m=\u001B[0m \u001B[0magent\u001B[0m\u001B[1;33m.\u001B[0m\u001B[0mchoose_action\u001B[0m\u001B[1;33m(\u001B[0m\u001B[0mobs\u001B[0m\u001B[1;33m)\u001B[0m\u001B[1;33m\u001B[0m\u001B[1;33m\u001B[0m\u001B[0m\n\u001B[0;32m     20\u001B[0m                 \u001B[0mnext_obs\u001B[0m\u001B[1;33m,\u001B[0m \u001B[0mreward\u001B[0m\u001B[1;33m,\u001B[0m \u001B[0mterminated\u001B[0m\u001B[1;33m,\u001B[0m\u001B[0mtruncated\u001B[0m\u001B[1;33m,\u001B[0m \u001B[0m_\u001B[0m \u001B[1;33m=\u001B[0m \u001B[0menv\u001B[0m\u001B[1;33m.\u001B[0m\u001B[0mstep\u001B[0m\u001B[1;33m(\u001B[0m\u001B[0maction\u001B[0m\u001B[1;33m)\u001B[0m\u001B[1;33m\u001B[0m\u001B[1;33m\u001B[0m\u001B[0m\n\u001B[0;32m     21\u001B[0m                 \u001B[0mscore\u001B[0m\u001B[1;33m+=\u001B[0m \u001B[0mreward\u001B[0m\u001B[1;33m\u001B[0m\u001B[1;33m\u001B[0m\u001B[0m\n\u001B[1;32m---> 22\u001B[1;33m                 \u001B[0magent\u001B[0m\u001B[1;33m.\u001B[0m\u001B[0mlearn\u001B[0m\u001B[1;33m(\u001B[0m\u001B[0mobs\u001B[0m\u001B[1;33m,\u001B[0m \u001B[0maction\u001B[0m\u001B[1;33m,\u001B[0m \u001B[0mreward\u001B[0m\u001B[1;33m,\u001B[0m \u001B[0mnext_obs\u001B[0m\u001B[1;33m)\u001B[0m\u001B[1;33m\u001B[0m\u001B[1;33m\u001B[0m\u001B[0m\n\u001B[0m\u001B[0;32m     23\u001B[0m                 \u001B[0mobs\u001B[0m \u001B[1;33m=\u001B[0m \u001B[0mnext_obs\u001B[0m\u001B[1;33m\u001B[0m\u001B[1;33m\u001B[0m\u001B[0m\n\u001B[0;32m     24\u001B[0m                 \u001B[0mdone\u001B[0m \u001B[1;33m=\u001B[0m \u001B[0mtruncated\u001B[0m \u001B[1;32mor\u001B[0m \u001B[0mterminated\u001B[0m\u001B[1;33m\u001B[0m\u001B[1;33m\u001B[0m\u001B[0m\n\u001B[0;32m     25\u001B[0m             \u001B[0mscores\u001B[0m\u001B[1;33m.\u001B[0m\u001B[0mappend\u001B[0m\u001B[1;33m(\u001B[0m\u001B[0mscore\u001B[0m\u001B[1;33m)\u001B[0m\u001B[1;33m\u001B[0m\u001B[1;33m\u001B[0m\u001B[0m\n",
      "\u001B[1;32m~\\AppData\\Local\\Temp\\ipykernel_10064\\3263036803.py\u001B[0m in \u001B[0;36m?\u001B[1;34m(self, state, action, reward, next_state)\u001B[0m\n\u001B[0;32m     49\u001B[0m             \u001B[0mq_next_max\u001B[0m \u001B[1;33m=\u001B[0m \u001B[0mtf\u001B[0m\u001B[1;33m.\u001B[0m\u001B[0mreduce_max\u001B[0m\u001B[1;33m(\u001B[0m\u001B[0mq_next\u001B[0m\u001B[1;33m)\u001B[0m\u001B[1;33m\u001B[0m\u001B[1;33m\u001B[0m\u001B[0m\n\u001B[0;32m     50\u001B[0m             \u001B[1;31m# print(f'q_next_max: {q_next_max.shape}')\u001B[0m\u001B[1;33m\u001B[0m\u001B[1;33m\u001B[0m\u001B[0m\n\u001B[0;32m     51\u001B[0m             \u001B[0mq_target\u001B[0m \u001B[1;33m=\u001B[0m \u001B[0mrewards\u001B[0m \u001B[1;33m+\u001B[0m \u001B[0mself\u001B[0m\u001B[1;33m.\u001B[0m\u001B[0mgamma\u001B[0m \u001B[1;33m*\u001B[0m \u001B[0mq_next_max\u001B[0m\u001B[1;33m\u001B[0m\u001B[1;33m\u001B[0m\u001B[0m\n\u001B[0;32m     52\u001B[0m             \u001B[1;31m# print(f'q_target: {q_target.shape}')\u001B[0m\u001B[1;33m\u001B[0m\u001B[1;33m\u001B[0m\u001B[0m\n\u001B[1;32m---> 53\u001B[1;33m             \u001B[0mloss\u001B[0m \u001B[1;33m=\u001B[0m \u001B[0mself\u001B[0m\u001B[1;33m.\u001B[0m\u001B[0mQ\u001B[0m\u001B[1;33m.\u001B[0m\u001B[0mloss\u001B[0m\u001B[1;33m(\u001B[0m\u001B[0mq_pred\u001B[0m\u001B[1;33m,\u001B[0m \u001B[0mq_target\u001B[0m\u001B[1;33m)\u001B[0m\u001B[1;33m\u001B[0m\u001B[1;33m\u001B[0m\u001B[0m\n\u001B[0m\u001B[0;32m     54\u001B[0m \u001B[1;33m\u001B[0m\u001B[0m\n\u001B[0;32m     55\u001B[0m         \u001B[0mgradients\u001B[0m \u001B[1;33m=\u001B[0m \u001B[0mtape\u001B[0m\u001B[1;33m.\u001B[0m\u001B[0mgradient\u001B[0m\u001B[1;33m(\u001B[0m\u001B[0mloss\u001B[0m\u001B[1;33m,\u001B[0m \u001B[0mself\u001B[0m\u001B[1;33m.\u001B[0m\u001B[0mQ\u001B[0m\u001B[1;33m.\u001B[0m\u001B[0mtrainable_weights\u001B[0m\u001B[1;33m)\u001B[0m\u001B[1;33m\u001B[0m\u001B[1;33m\u001B[0m\u001B[0m\n\u001B[0;32m     56\u001B[0m         \u001B[0mself\u001B[0m\u001B[1;33m.\u001B[0m\u001B[0mQ\u001B[0m\u001B[1;33m.\u001B[0m\u001B[0moptimizer\u001B[0m\u001B[1;33m.\u001B[0m\u001B[0mapply_gradients\u001B[0m\u001B[1;33m(\u001B[0m\u001B[0mzip\u001B[0m\u001B[1;33m(\u001B[0m\u001B[0mgradients\u001B[0m\u001B[1;33m,\u001B[0m \u001B[0mself\u001B[0m\u001B[1;33m.\u001B[0m\u001B[0mQ\u001B[0m\u001B[1;33m.\u001B[0m\u001B[0mtrainable_weights\u001B[0m\u001B[1;33m)\u001B[0m\u001B[1;33m)\u001B[0m\u001B[1;33m\u001B[0m\u001B[1;33m\u001B[0m\u001B[0m\n",
      "\u001B[1;32m~\\PycharmProjects\\DeepLearning\\.venv\\lib\\site-packages\\keras\\losses.py\u001B[0m in \u001B[0;36m?\u001B[1;34m(self, y_true, y_pred, sample_weight)\u001B[0m\n\u001B[0;32m    154\u001B[0m             \u001B[0mreduction\u001B[0m \u001B[1;33m=\u001B[0m \u001B[0mself\u001B[0m\u001B[1;33m.\u001B[0m\u001B[0m_get_reduction\u001B[0m\u001B[1;33m(\u001B[0m\u001B[1;33m)\u001B[0m\u001B[1;33m\u001B[0m\u001B[1;33m\u001B[0m\u001B[0m\n\u001B[0;32m    155\u001B[0m             sample_weight = losses_utils.apply_valid_mask(\n\u001B[0;32m    156\u001B[0m                 \u001B[0mlosses\u001B[0m\u001B[1;33m,\u001B[0m \u001B[0msample_weight\u001B[0m\u001B[1;33m,\u001B[0m \u001B[0mmask\u001B[0m\u001B[1;33m,\u001B[0m \u001B[0mreduction\u001B[0m\u001B[1;33m\u001B[0m\u001B[1;33m\u001B[0m\u001B[0m\n\u001B[0;32m    157\u001B[0m             )\n\u001B[1;32m--> 158\u001B[1;33m             return losses_utils.compute_weighted_loss(\n\u001B[0m\u001B[0;32m    159\u001B[0m                 \u001B[0mlosses\u001B[0m\u001B[1;33m,\u001B[0m \u001B[0msample_weight\u001B[0m\u001B[1;33m,\u001B[0m \u001B[0mreduction\u001B[0m\u001B[1;33m=\u001B[0m\u001B[0mreduction\u001B[0m\u001B[1;33m\u001B[0m\u001B[1;33m\u001B[0m\u001B[0m\n\u001B[0;32m    160\u001B[0m             )\n",
      "\u001B[1;32m~\\PycharmProjects\\DeepLearning\\.venv\\lib\\site-packages\\keras\\utils\\losses_utils.py\u001B[0m in \u001B[0;36m?\u001B[1;34m(losses, sample_weight, reduction, name)\u001B[0m\n\u001B[0;32m    354\u001B[0m         \u001B[0mloss\u001B[0m \u001B[1;33m=\u001B[0m \u001B[0mreduce_weighted_loss\u001B[0m\u001B[1;33m(\u001B[0m\u001B[0mweighted_losses\u001B[0m\u001B[1;33m,\u001B[0m \u001B[0mreduction\u001B[0m\u001B[1;33m)\u001B[0m\u001B[1;33m\u001B[0m\u001B[1;33m\u001B[0m\u001B[0m\n\u001B[0;32m    355\u001B[0m         \u001B[1;32mif\u001B[0m \u001B[0minput_casted\u001B[0m\u001B[1;33m:\u001B[0m\u001B[1;33m\u001B[0m\u001B[1;33m\u001B[0m\u001B[0m\n\u001B[0;32m    356\u001B[0m             \u001B[1;31m# Convert the result back to the input type.\u001B[0m\u001B[1;33m\u001B[0m\u001B[1;33m\u001B[0m\u001B[0m\n\u001B[0;32m    357\u001B[0m             \u001B[0mloss\u001B[0m \u001B[1;33m=\u001B[0m \u001B[0mtf\u001B[0m\u001B[1;33m.\u001B[0m\u001B[0mcast\u001B[0m\u001B[1;33m(\u001B[0m\u001B[0mloss\u001B[0m\u001B[1;33m,\u001B[0m \u001B[0minput_dtype\u001B[0m\u001B[1;33m)\u001B[0m\u001B[1;33m\u001B[0m\u001B[1;33m\u001B[0m\u001B[0m\n\u001B[1;32m--> 358\u001B[1;33m         \u001B[1;32mreturn\u001B[0m \u001B[0mloss\u001B[0m\u001B[1;33m\u001B[0m\u001B[1;33m\u001B[0m\u001B[0m\n\u001B[0m",
      "\u001B[1;32m~\\PycharmProjects\\DeepLearning\\.venv\\lib\\site-packages\\keras\\utils\\losses_utils.py\u001B[0m in \u001B[0;36m?\u001B[1;34m(weighted_losses, reduction)\u001B[0m\n\u001B[0;32m    281\u001B[0m         \u001B[0mloss\u001B[0m \u001B[1;33m=\u001B[0m \u001B[0mweighted_losses\u001B[0m\u001B[1;33m\u001B[0m\u001B[1;33m\u001B[0m\u001B[0m\n\u001B[0;32m    282\u001B[0m     \u001B[1;32melse\u001B[0m\u001B[1;33m:\u001B[0m\u001B[1;33m\u001B[0m\u001B[1;33m\u001B[0m\u001B[0m\n\u001B[0;32m    283\u001B[0m         \u001B[0mloss\u001B[0m \u001B[1;33m=\u001B[0m \u001B[0mtf\u001B[0m\u001B[1;33m.\u001B[0m\u001B[0mreduce_sum\u001B[0m\u001B[1;33m(\u001B[0m\u001B[0mweighted_losses\u001B[0m\u001B[1;33m)\u001B[0m\u001B[1;33m\u001B[0m\u001B[1;33m\u001B[0m\u001B[0m\n\u001B[0;32m    284\u001B[0m         \u001B[1;32mif\u001B[0m \u001B[0mreduction\u001B[0m \u001B[1;33m==\u001B[0m \u001B[0mReductionV2\u001B[0m\u001B[1;33m.\u001B[0m\u001B[0mSUM_OVER_BATCH_SIZE\u001B[0m\u001B[1;33m:\u001B[0m\u001B[1;33m\u001B[0m\u001B[1;33m\u001B[0m\u001B[0m\n\u001B[1;32m--> 285\u001B[1;33m             \u001B[0mloss\u001B[0m \u001B[1;33m=\u001B[0m \u001B[0m_safe_mean\u001B[0m\u001B[1;33m(\u001B[0m\u001B[0mloss\u001B[0m\u001B[1;33m,\u001B[0m \u001B[0m_num_elements\u001B[0m\u001B[1;33m(\u001B[0m\u001B[0mweighted_losses\u001B[0m\u001B[1;33m)\u001B[0m\u001B[1;33m)\u001B[0m\u001B[1;33m\u001B[0m\u001B[1;33m\u001B[0m\u001B[0m\n\u001B[0m\u001B[0;32m    286\u001B[0m     \u001B[1;32mreturn\u001B[0m \u001B[0mloss\u001B[0m\u001B[1;33m\u001B[0m\u001B[1;33m\u001B[0m\u001B[0m\n",
      "\u001B[1;32m~\\PycharmProjects\\DeepLearning\\.venv\\lib\\site-packages\\keras\\utils\\losses_utils.py\u001B[0m in \u001B[0;36m?\u001B[1;34m(losses)\u001B[0m\n\u001B[0;32m    270\u001B[0m \u001B[1;32mdef\u001B[0m \u001B[0m_num_elements\u001B[0m\u001B[1;33m(\u001B[0m\u001B[0mlosses\u001B[0m\u001B[1;33m)\u001B[0m\u001B[1;33m:\u001B[0m\u001B[1;33m\u001B[0m\u001B[1;33m\u001B[0m\u001B[0m\n\u001B[0;32m    271\u001B[0m     \u001B[1;34m\"\"\"Computes the number of elements in `losses` tensor.\"\"\"\u001B[0m\u001B[1;33m\u001B[0m\u001B[1;33m\u001B[0m\u001B[0m\n\u001B[0;32m    272\u001B[0m     \u001B[1;32mwith\u001B[0m \u001B[0mbackend\u001B[0m\u001B[1;33m.\u001B[0m\u001B[0mname_scope\u001B[0m\u001B[1;33m(\u001B[0m\u001B[1;34m\"num_elements\"\u001B[0m\u001B[1;33m)\u001B[0m \u001B[1;32mas\u001B[0m \u001B[0mscope\u001B[0m\u001B[1;33m:\u001B[0m\u001B[1;33m\u001B[0m\u001B[1;33m\u001B[0m\u001B[0m\n\u001B[1;32m--> 273\u001B[1;33m         \u001B[1;32mreturn\u001B[0m \u001B[0mtf\u001B[0m\u001B[1;33m.\u001B[0m\u001B[0mcast\u001B[0m\u001B[1;33m(\u001B[0m\u001B[0mtf\u001B[0m\u001B[1;33m.\u001B[0m\u001B[0msize\u001B[0m\u001B[1;33m(\u001B[0m\u001B[0mlosses\u001B[0m\u001B[1;33m,\u001B[0m \u001B[0mname\u001B[0m\u001B[1;33m=\u001B[0m\u001B[0mscope\u001B[0m\u001B[1;33m)\u001B[0m\u001B[1;33m,\u001B[0m \u001B[0mdtype\u001B[0m\u001B[1;33m=\u001B[0m\u001B[0mlosses\u001B[0m\u001B[1;33m.\u001B[0m\u001B[0mdtype\u001B[0m\u001B[1;33m)\u001B[0m\u001B[1;33m\u001B[0m\u001B[1;33m\u001B[0m\u001B[0m\n\u001B[0m",
      "\u001B[1;32m~\\PycharmProjects\\DeepLearning\\.venv\\lib\\site-packages\\tensorflow\\python\\util\\traceback_utils.py\u001B[0m in \u001B[0;36m?\u001B[1;34m(*args, **kwargs)\u001B[0m\n\u001B[0;32m    151\u001B[0m     \u001B[1;32mexcept\u001B[0m \u001B[0mException\u001B[0m \u001B[1;32mas\u001B[0m \u001B[0me\u001B[0m\u001B[1;33m:\u001B[0m\u001B[1;33m\u001B[0m\u001B[1;33m\u001B[0m\u001B[0m\n\u001B[0;32m    152\u001B[0m       \u001B[0mfiltered_tb\u001B[0m \u001B[1;33m=\u001B[0m \u001B[0m_process_traceback_frames\u001B[0m\u001B[1;33m(\u001B[0m\u001B[0me\u001B[0m\u001B[1;33m.\u001B[0m\u001B[0m__traceback__\u001B[0m\u001B[1;33m)\u001B[0m\u001B[1;33m\u001B[0m\u001B[1;33m\u001B[0m\u001B[0m\n\u001B[0;32m    153\u001B[0m       \u001B[1;32mraise\u001B[0m \u001B[0me\u001B[0m\u001B[1;33m.\u001B[0m\u001B[0mwith_traceback\u001B[0m\u001B[1;33m(\u001B[0m\u001B[0mfiltered_tb\u001B[0m\u001B[1;33m)\u001B[0m \u001B[1;32mfrom\u001B[0m \u001B[1;32mNone\u001B[0m\u001B[1;33m\u001B[0m\u001B[1;33m\u001B[0m\u001B[0m\n\u001B[0;32m    154\u001B[0m     \u001B[1;32mfinally\u001B[0m\u001B[1;33m:\u001B[0m\u001B[1;33m\u001B[0m\u001B[1;33m\u001B[0m\u001B[0m\n\u001B[1;32m--> 155\u001B[1;33m       \u001B[1;32mdel\u001B[0m \u001B[0mfiltered_tb\u001B[0m\u001B[1;33m\u001B[0m\u001B[1;33m\u001B[0m\u001B[0m\n\u001B[0m",
      "\u001B[1;32m~\\PycharmProjects\\DeepLearning\\.venv\\lib\\site-packages\\tensorflow\\python\\util\\dispatch.py\u001B[0m in \u001B[0;36m?\u001B[1;34m(*args, **kwargs)\u001B[0m\n\u001B[0;32m   1180\u001B[0m         \u001B[0mresult\u001B[0m \u001B[1;33m=\u001B[0m \u001B[0mdispatch\u001B[0m\u001B[1;33m(\u001B[0m\u001B[0mop_dispatch_handler\u001B[0m\u001B[1;33m,\u001B[0m \u001B[0margs\u001B[0m\u001B[1;33m,\u001B[0m \u001B[0mkwargs\u001B[0m\u001B[1;33m)\u001B[0m\u001B[1;33m\u001B[0m\u001B[1;33m\u001B[0m\u001B[0m\n\u001B[0;32m   1181\u001B[0m         \u001B[1;32mif\u001B[0m \u001B[0mresult\u001B[0m \u001B[1;32mis\u001B[0m \u001B[1;32mnot\u001B[0m \u001B[0mOpDispatcher\u001B[0m\u001B[1;33m.\u001B[0m\u001B[0mNOT_SUPPORTED\u001B[0m\u001B[1;33m:\u001B[0m\u001B[1;33m\u001B[0m\u001B[1;33m\u001B[0m\u001B[0m\n\u001B[0;32m   1182\u001B[0m           \u001B[1;32mreturn\u001B[0m \u001B[0mresult\u001B[0m\u001B[1;33m\u001B[0m\u001B[1;33m\u001B[0m\u001B[0m\n\u001B[0;32m   1183\u001B[0m         \u001B[1;32melse\u001B[0m\u001B[1;33m:\u001B[0m\u001B[1;33m\u001B[0m\u001B[1;33m\u001B[0m\u001B[0m\n\u001B[1;32m-> 1184\u001B[1;33m           \u001B[1;32mraise\u001B[0m\u001B[1;33m\u001B[0m\u001B[1;33m\u001B[0m\u001B[0m\n\u001B[0m",
      "\u001B[1;32m~\\PycharmProjects\\DeepLearning\\.venv\\lib\\site-packages\\tensorflow\\python\\ops\\math_ops.py\u001B[0m in \u001B[0;36m?\u001B[1;34m(x, dtype, name)\u001B[0m\n\u001B[0;32m   1002\u001B[0m       \u001B[1;32mif\u001B[0m \u001B[0mx\u001B[0m\u001B[1;33m.\u001B[0m\u001B[0mdtype\u001B[0m \u001B[1;33m!=\u001B[0m \u001B[0mbase_type\u001B[0m\u001B[1;33m:\u001B[0m\u001B[1;33m\u001B[0m\u001B[1;33m\u001B[0m\u001B[0m\n\u001B[0;32m   1003\u001B[0m         \u001B[0mx\u001B[0m \u001B[1;33m=\u001B[0m \u001B[0mgen_math_ops\u001B[0m\u001B[1;33m.\u001B[0m\u001B[0mcast\u001B[0m\u001B[1;33m(\u001B[0m\u001B[0mx\u001B[0m\u001B[1;33m,\u001B[0m \u001B[0mbase_type\u001B[0m\u001B[1;33m,\u001B[0m \u001B[0mname\u001B[0m\u001B[1;33m=\u001B[0m\u001B[0mname\u001B[0m\u001B[1;33m)\u001B[0m\u001B[1;33m\u001B[0m\u001B[1;33m\u001B[0m\u001B[0m\n\u001B[0;32m   1004\u001B[0m     \u001B[1;32mif\u001B[0m \u001B[0mx\u001B[0m\u001B[1;33m.\u001B[0m\u001B[0mdtype\u001B[0m\u001B[1;33m.\u001B[0m\u001B[0mis_complex\u001B[0m \u001B[1;32mand\u001B[0m \u001B[0mbase_type\u001B[0m\u001B[1;33m.\u001B[0m\u001B[0mis_floating\u001B[0m\u001B[1;33m:\u001B[0m\u001B[1;33m\u001B[0m\u001B[1;33m\u001B[0m\u001B[0m\n\u001B[0;32m   1005\u001B[0m       \u001B[0mlogging\u001B[0m\u001B[1;33m.\u001B[0m\u001B[0mwarn\u001B[0m\u001B[1;33m(\u001B[0m\u001B[1;34m\"Casting complex to real discards imaginary part.\"\u001B[0m\u001B[1;33m)\u001B[0m\u001B[1;33m\u001B[0m\u001B[1;33m\u001B[0m\u001B[0m\n\u001B[1;32m-> 1006\u001B[1;33m     \u001B[1;32mreturn\u001B[0m \u001B[0mx\u001B[0m\u001B[1;33m\u001B[0m\u001B[1;33m\u001B[0m\u001B[0m\n\u001B[0m",
      "\u001B[1;32m~\\PycharmProjects\\DeepLearning\\.venv\\lib\\site-packages\\tensorflow\\python\\ops\\gen_math_ops.py\u001B[0m in \u001B[0;36m?\u001B[1;34m(x, DstT, Truncate, name)\u001B[0m\n\u001B[0;32m   1998\u001B[0m       \u001B[1;32mreturn\u001B[0m \u001B[0m_result\u001B[0m\u001B[1;33m\u001B[0m\u001B[1;33m\u001B[0m\u001B[0m\n\u001B[0;32m   1999\u001B[0m     \u001B[1;32mexcept\u001B[0m \u001B[0m_core\u001B[0m\u001B[1;33m.\u001B[0m\u001B[0m_NotOkStatusException\u001B[0m \u001B[1;32mas\u001B[0m \u001B[0me\u001B[0m\u001B[1;33m:\u001B[0m\u001B[1;33m\u001B[0m\u001B[1;33m\u001B[0m\u001B[0m\n\u001B[0;32m   2000\u001B[0m       \u001B[0m_ops\u001B[0m\u001B[1;33m.\u001B[0m\u001B[0mraise_from_not_ok_status\u001B[0m\u001B[1;33m(\u001B[0m\u001B[0me\u001B[0m\u001B[1;33m,\u001B[0m \u001B[0mname\u001B[0m\u001B[1;33m)\u001B[0m\u001B[1;33m\u001B[0m\u001B[1;33m\u001B[0m\u001B[0m\n\u001B[0;32m   2001\u001B[0m     \u001B[1;32mexcept\u001B[0m \u001B[0m_core\u001B[0m\u001B[1;33m.\u001B[0m\u001B[0m_FallbackException\u001B[0m\u001B[1;33m:\u001B[0m\u001B[1;33m\u001B[0m\u001B[1;33m\u001B[0m\u001B[0m\n\u001B[1;32m-> 2002\u001B[1;33m       \u001B[1;32mpass\u001B[0m\u001B[1;33m\u001B[0m\u001B[1;33m\u001B[0m\u001B[0m\n\u001B[0m\u001B[0;32m   2003\u001B[0m     \u001B[1;32mtry\u001B[0m\u001B[1;33m:\u001B[0m\u001B[1;33m\u001B[0m\u001B[1;33m\u001B[0m\u001B[0m\n\u001B[0;32m   2004\u001B[0m       return cast_eager_fallback(\n\u001B[0;32m   2005\u001B[0m           x, DstT=DstT, Truncate=Truncate, name=name, ctx=_ctx)\n",
      "\u001B[1;31mKeyboardInterrupt\u001B[0m: "
     ]
    }
   ],
   "source": [
    "if __name__ == '__main__':\n",
    "    env = gym.make('CartPole-v1')\n",
    "    nb_episodes = 10000\n",
    "    scores = []\n",
    "    eps_history = []\n",
    "    agent = Agent(input_dims= env.observation_space.shape,\n",
    "                  n_actions=env.action_space.n,\n",
    "                  lr=0.0001\n",
    "                  )\n",
    "    avg_score =0\n",
    "    for i in range (nb_episodes):\n",
    "        if avg_score > 100 : \n",
    "            break\n",
    "        else:\n",
    "            score = 0\n",
    "            done = False\n",
    "            obs, _ = env.reset()\n",
    "            while not done:\n",
    "                action = agent.choose_action(obs)\n",
    "                next_obs, reward, terminated,truncated, _ = env.step(action)\n",
    "                score+= reward\n",
    "                agent.learn(obs, action, reward, next_obs)\n",
    "                obs = next_obs\n",
    "                done = truncated or terminated\n",
    "            scores.append(score)\n",
    "            eps_history.append(agent.epsilon)\n",
    "            \n",
    "            if i % 100 == 0:\n",
    "                avg_score = np.mean(scores[-100:])\n",
    "                \n",
    "                print('Episode', i, 'score %.1f avg score %.1f epsilon %.3f'% (score, avg_score,agent.epsilon) )\n",
    "        \n",
    "            "
   ],
   "metadata": {
    "collapsed": false,
    "ExecuteTime": {
     "end_time": "2024-08-04T11:41:30.758601900Z",
     "start_time": "2024-08-04T11:27:22.752649300Z"
    }
   },
   "id": "a7cbe0fb29d7d5fc",
   "execution_count": 27
  },
  {
   "cell_type": "code",
   "outputs": [],
   "source": [
    "import matplotlib\n",
    "matplotlib.use('TkAgg')  # or 'Qt5Agg' if you prefer Qt\n",
    "env = gym.make('CartPole-v1', render_mode = 'rgb_array')\n",
    "obs, info = env.reset()\n",
    "\n",
    "plt.ion()\n",
    "fig, ax = plt.subplots(figsize=(8,8))\n",
    "action_text = ax.text(510, 20, '', color='white', fontsize=12, bbox=dict(facecolor='blue', alpha=0.8))\n",
    "actions = ['Left','Right']\n",
    "img = ax.imshow(env.render())\n",
    "rewards = 0\n",
    "num_epochs= 10\n",
    "for step in range(num_epochs):\n",
    "    obs, info = env.reset()\n",
    "    done = False\n",
    "    while not done:\n",
    "        action = agent.choose_action(obs)\n",
    "        next_obs, reward, terminated, truncated, info = env.step(action)\n",
    "        \n",
    "        rewards += reward\n",
    "        frame = env.render()\n",
    "        img.set_data(frame)\n",
    "        action_text.set_text(f'Step: {actions[action] }')\n",
    "\n",
    "        fig.canvas.draw()\n",
    "        fig.canvas.flush_events()\n",
    "        done = terminated or truncated\n",
    "        obs = next_obs\n",
    "\n",
    "plt.ioff()  # Turn off interactive mode\n",
    "# plt.show()  # Keep the window open after the animation finishes\n",
    "plt.close()\n",
    "env.close()"
   ],
   "metadata": {
    "collapsed": false,
    "ExecuteTime": {
     "end_time": "2024-08-04T11:41:30.769090100Z",
     "start_time": "2024-08-04T11:41:30.768087700Z"
    }
   },
   "id": "bcf0b9dfbeacb01c",
   "execution_count": null
  },
  {
   "cell_type": "code",
   "outputs": [],
   "source": [
    "plt.plot(scores)"
   ],
   "metadata": {
    "collapsed": false,
    "ExecuteTime": {
     "end_time": "2024-08-04T11:41:30.797643500Z",
     "start_time": "2024-08-04T11:41:30.779617300Z"
    }
   },
   "id": "7ec8c5d01b740702",
   "execution_count": null
  }
 ],
 "metadata": {
  "kernelspec": {
   "display_name": "Python 3",
   "language": "python",
   "name": "python3"
  },
  "language_info": {
   "codemirror_mode": {
    "name": "ipython",
    "version": 2
   },
   "file_extension": ".py",
   "mimetype": "text/x-python",
   "name": "python",
   "nbconvert_exporter": "python",
   "pygments_lexer": "ipython2",
   "version": "2.7.6"
  }
 },
 "nbformat": 4,
 "nbformat_minor": 5
}
