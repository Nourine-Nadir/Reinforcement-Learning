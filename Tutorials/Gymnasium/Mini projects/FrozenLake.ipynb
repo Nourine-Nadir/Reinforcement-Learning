{
 "cells": [
  {
   "cell_type": "code",
   "execution_count": 1,
   "id": "initial_id",
   "metadata": {
    "collapsed": true,
    "ExecuteTime": {
     "end_time": "2024-07-19T20:01:10.193086500Z",
     "start_time": "2024-07-19T20:01:09.738984Z"
    }
   },
   "outputs": [],
   "source": [
    "import gymnasium as gym\n",
    "from gymnasium.envs.toy_text.frozen_lake import FrozenLakeEnv\n",
    "import matplotlib\n",
    "import matplotlib.pyplot as plt\n",
    "from matplotlib.patches import Patch\n",
    "import numpy as np\n",
    "import seaborn as sns\n",
    "from tqdm import tqdm\n",
    "from collections import defaultdict # allows access to undefined keys\n",
    "matplotlib.use('TkAgg')  # or 'Qt5Agg' if you prefer Qt"
   ]
  },
  {
   "cell_type": "code",
   "outputs": [],
   "source": [
    "\n",
    "\n",
    "class CustomFrozenLake(FrozenLakeEnv):\n",
    "    def __init__(self, goal_reward=100, hole_penalty=-50, step_penalty=-1,stuck_penalty=-1, **kwargs):\n",
    "        super().__init__(**kwargs)\n",
    "        self.goal_reward = goal_reward\n",
    "        self.hole_penalty = hole_penalty\n",
    "        self.step_penalty = step_penalty\n",
    "        self.stuck_penalty = stuck_penalty\n",
    "\n",
    "    def step(self, action):\n",
    "        prev_state = self.unwrapped.s\n",
    "        \n",
    "        state, reward, terminated, truncated, info = super().step(action)\n",
    "        \n",
    "        current_tile = self.desc[self.unwrapped.s // self.ncol, self.unwrapped.s % self.ncol]\n",
    "        \n",
    "        if current_tile in b'H':\n",
    "            reward = self.hole_penalty  # Apply penalty for falling into a hole\n",
    "        elif current_tile in b'G':\n",
    "            reward = self.goal_reward  # Apply higher reward for reaching the goal\n",
    "        \n",
    "        elif prev_state == state :\n",
    "            reward = self.stuck_penalty  # Apply small penalty for walking on frozen tiles\n",
    "        else:\n",
    "            reward = self.step_penalty\n",
    "            \n",
    "        \n",
    "        return state, reward, terminated, truncated, info"
   ],
   "metadata": {
    "collapsed": false,
    "ExecuteTime": {
     "end_time": "2024-07-19T20:01:10.205087900Z",
     "start_time": "2024-07-19T20:01:10.191084800Z"
    }
   },
   "id": "45654de722988832",
   "execution_count": 2
  },
  {
   "cell_type": "code",
   "outputs": [],
   "source": [
    "class FrozenLakeAgent():\n",
    "    def __init__(self,\n",
    "                 learning_rate:float,\n",
    "                 initial_epsilon:float,\n",
    "                 epsilon_decay:float,\n",
    "                 final_epsilon:float,\n",
    "                 discount_factor:float = 0.95,\n",
    "                 ):\n",
    "        \n",
    "    #Initialize the agent with empty dictionary of action/state values (q_values), a learning rate and an epsilon\n",
    "    # discount_factor : Is for computing the Q-value namely gamma \n",
    "        self.q_values = defaultdict(lambda: np.zeros(env.action_space.n))\n",
    "    \n",
    "        self.lr = learning_rate\n",
    "        self.epsilon = initial_epsilon\n",
    "        self.epsilon_decay = epsilon_decay\n",
    "        self.final_epsilon = final_epsilon\n",
    "        self.discount_factor = discount_factor\n",
    "        \n",
    "        self.training_error = []\n",
    "    \n",
    "    def choose_action(self, obs:tuple[int,int,bool])->int:\n",
    "        # Return the best action with a probability of (1- epsilon) \n",
    "        if np.random.random() < self.epsilon:\n",
    "            return env.action_space.sample()\n",
    "        else:\n",
    "            return int(np.argmax(self.q_values[obs]))\n",
    "    \n",
    "    def update_q_values(self,\n",
    "                        obs:tuple[int,int,bool],\n",
    "                        action:int,\n",
    "                        reward:float,\n",
    "                        terminated:bool,\n",
    "                        next_obs:tuple[int,int,bool]):\n",
    "        future_q_value = (not terminated) * np.max(self.q_values[next_obs])\n",
    "\n",
    "        temporal_diffrence = (reward + (self.discount_factor * future_q_value))- self.q_values[obs][action]\n",
    "        \n",
    "        self.q_values[obs][action] = (\n",
    "            self.q_values[obs][action] + self.lr * temporal_diffrence\n",
    "        )\n",
    "        self.training_error.append(temporal_diffrence)\n",
    "        \n",
    "    def decay_epsilon(self):\n",
    "        self.epsilon = max(self.final_epsilon, self.epsilon * self.epsilon_decay)"
   ],
   "metadata": {
    "collapsed": false,
    "ExecuteTime": {
     "end_time": "2024-07-19T20:01:10.361124100Z",
     "start_time": "2024-07-19T20:01:10.203087800Z"
    }
   },
   "id": "71382b775326e544",
   "execution_count": 3
  },
  {
   "cell_type": "code",
   "outputs": [],
   "source": [
    "learning_rate = .1\n",
    "n_episodes = 10000\n",
    "start_epsilon = 1\n",
    "epsilon_decay = 0.999\n",
    "final_epsilon = 0.05\n",
    "\n",
    "agent = FrozenLakeAgent(\n",
    "    learning_rate=learning_rate,\n",
    "    initial_epsilon=start_epsilon,\n",
    "    final_epsilon=final_epsilon,\n",
    "    epsilon_decay=epsilon_decay,\n",
    "    \n",
    "    \n",
    ")"
   ],
   "metadata": {
    "collapsed": false,
    "ExecuteTime": {
     "end_time": "2024-07-19T20:01:10.568169300Z",
     "start_time": "2024-07-19T20:01:10.362123200Z"
    }
   },
   "id": "ef93af5919d22a69",
   "execution_count": 4
  },
  {
   "cell_type": "code",
   "outputs": [],
   "source": [
    "env = CustomFrozenLake(map_name=\"8x8\", is_slippery=False, render_mode='rgb_array')\n"
   ],
   "metadata": {
    "collapsed": false,
    "ExecuteTime": {
     "end_time": "2024-07-19T20:01:10.760212300Z",
     "start_time": "2024-07-19T20:01:10.569169800Z"
    }
   },
   "id": "40360a309c0449ea",
   "execution_count": 5
  },
  {
   "cell_type": "code",
   "outputs": [
    {
     "name": "stderr",
     "output_type": "stream",
     "text": [
      "100%|██████████| 10000/10000 [00:06<00:00, 1478.52it/s]\n"
     ]
    }
   ],
   "source": [
    "env = gym.wrappers.RecordEpisodeStatistics(env, deque_size=n_episodes)\n",
    "env = gym.wrappers.TimeLimit(env, max_episode_steps=60)\n",
    "\n",
    "rewards = 0 \n",
    "for episode in tqdm(range(n_episodes)):\n",
    "    \n",
    "    obs, info = env.reset()\n",
    "    done = False\n",
    "    \n",
    "    # play one episode\n",
    "    while not done:\n",
    "        action = agent.choose_action(obs)\n",
    "        next_obs, reward, terminated, truncated, info = env.step(action)\n",
    "        rewards += reward\n",
    "        # update the agent\n",
    "        agent.update_q_values(obs, action, reward, terminated, next_obs)\n",
    "\n",
    "        # update if the environment is done and the current obs\n",
    "        done = terminated or truncated\n",
    "        obs = next_obs\n",
    "\n",
    "    agent.decay_epsilon()"
   ],
   "metadata": {
    "collapsed": false,
    "ExecuteTime": {
     "end_time": "2024-07-19T20:01:17.715774300Z",
     "start_time": "2024-07-19T20:01:10.764213200Z"
    }
   },
   "id": "f66e0e3d2ae896c4",
   "execution_count": 6
  },
  {
   "cell_type": "code",
   "outputs": [
    {
     "name": "stdout",
     "output_type": "stream",
     "text": [
      "[2 2 2 2 1 2 1 1 0 1 2 1 1 1 1 1 2 0 2 2 0 1 2 1 1 1 2 0 2 3 0 2 3 0 1 1 1\n",
      " 1 1 2 1 0 2 3 0 1 0 0 0 2 2 0 0 1 0 1 0 3 3 0 0 2 1 2]\n"
     ]
    }
   ],
   "source": [
    "q_values = np.array([value for key, value in agent.q_values.items()])\n",
    "print(np.argmax(q_values,axis=1))\n"
   ],
   "metadata": {
    "collapsed": false,
    "ExecuteTime": {
     "end_time": "2024-07-19T20:01:17.731779Z",
     "start_time": "2024-07-19T20:01:17.716774700Z"
    }
   },
   "id": "fa5d6e44bd8378ae",
   "execution_count": 7
  },
  {
   "cell_type": "markdown",
   "source": [
    "In the Blackjack environment, the state space is defined by three components:\n",
    "\n",
    "- The player's current sum (ranges from 4 to 21)\n",
    "- The dealer's visible card (ranges from 1 to 10, where 1 represents an Ace)\n",
    "- Whether the player has a usable Ace (True or False)\n",
    "\n",
    "So, the total number of possible states is:\n",
    "(21 - 4 + 1) * 10 * 2 = 18 * 10 * 2 = 360\n",
    "However, you're seeing 380 instead of 360. This is because the environment also includes some terminal states that can occur when the player's sum exceeds 21 (bust states). These additional states account for the extra 20 entries in your q_values dictionary."
   ],
   "metadata": {
    "collapsed": false
   },
   "id": "e1c59375e9d58b82"
  },
  {
   "cell_type": "code",
   "outputs": [
    {
     "name": "stderr",
     "output_type": "stream",
     "text": [
      "C:\\Users\\Click\\PycharmProjects\\DeepLearning\\.venv\\lib\\site-packages\\gymnasium\\core.py:311: UserWarning: \u001B[33mWARN: env.return_queue to get variables from other wrappers is deprecated and will be removed in v1.0, to get this variable you can do `env.unwrapped.return_queue` for environment variables or `env.get_wrapper_attr('return_queue')` that will search the reminding wrappers.\u001B[0m\n",
      "  logger.warn(\n",
      "C:\\Users\\Click\\PycharmProjects\\DeepLearning\\.venv\\lib\\site-packages\\gymnasium\\core.py:311: UserWarning: \u001B[33mWARN: env.length_queue to get variables from other wrappers is deprecated and will be removed in v1.0, to get this variable you can do `env.unwrapped.length_queue` for environment variables or `env.get_wrapper_attr('length_queue')` that will search the reminding wrappers.\u001B[0m\n",
      "  logger.warn(\n"
     ]
    }
   ],
   "source": [
    "rolling_length = 500\n",
    "fig, axs = plt.subplots(ncols=3, figsize=(12, 5))\n",
    "axs[0].set_title(\"Episode rewards\")\n",
    "# compute and assign a rolling average of the data to provide a smoother graph\n",
    "reward_moving_average = (\n",
    "    np.convolve(\n",
    "        np.array(env.return_queue).flatten(), np.ones(rolling_length), mode=\"valid\"\n",
    "    )\n",
    "    / rolling_length\n",
    ")\n",
    "axs[0].plot(range(len(reward_moving_average)), reward_moving_average)\n",
    "axs[1].set_title(\"Episode lengths\")\n",
    "length_moving_average = (\n",
    "    np.convolve(\n",
    "        np.array(env.length_queue).flatten(), np.ones(rolling_length), mode=\"same\"\n",
    "    )\n",
    "    / rolling_length\n",
    ")\n",
    "axs[1].plot(range(len(length_moving_average)), length_moving_average)\n",
    "axs[2].set_title(\"Training Error\")\n",
    "training_error_moving_average = (\n",
    "    np.convolve(np.array(agent.training_error), np.ones(rolling_length), mode=\"same\")\n",
    "    / rolling_length\n",
    ")\n",
    "axs[2].plot(range(len(training_error_moving_average)), training_error_moving_average)\n",
    "plt.tight_layout()\n",
    "plt.show()"
   ],
   "metadata": {
    "collapsed": false,
    "ExecuteTime": {
     "end_time": "2024-07-19T20:01:21.015515200Z",
     "start_time": "2024-07-19T20:01:17.734779600Z"
    }
   },
   "id": "29b323d24413638a",
   "execution_count": 8
  },
  {
   "cell_type": "code",
   "outputs": [
    {
     "name": "stdout",
     "output_type": "stream",
     "text": [
      "total rewards = 508898\n"
     ]
    }
   ],
   "source": [
    "print(f'total rewards = {rewards}')\n"
   ],
   "metadata": {
    "collapsed": false,
    "ExecuteTime": {
     "end_time": "2024-07-19T20:01:21.043521700Z",
     "start_time": "2024-07-19T20:01:21.005513400Z"
    }
   },
   "id": "7c08f6b5a0cde63e",
   "execution_count": 9
  },
  {
   "cell_type": "code",
   "outputs": [
    {
     "name": "stdout",
     "output_type": "stream",
     "text": [
      "step 0:  obs = 1 , reward = -1\n",
      "step 0:  obs = 0 , reward = -1\n",
      "step 0:  obs = 1 , reward = -1\n",
      "step 0:  obs = 2 , reward = -1\n",
      "step 0:  obs = 10 , reward = -1\n",
      "step 0:  obs = 18 , reward = -1\n",
      "step 0:  obs = 26 , reward = -1\n",
      "step 0:  obs = 27 , reward = -1\n",
      "step 0:  obs = 28 , reward = -1\n",
      "step 0:  obs = 36 , reward = -1\n",
      "step 0:  obs = 37 , reward = -1\n",
      "step 0:  obs = 38 , reward = -1\n",
      "step 0:  obs = 39 , reward = -1\n",
      "step 0:  obs = 47 , reward = -1\n",
      "step 0:  obs = 55 , reward = -1\n",
      "step 0:  obs = 63 , reward = 100\n",
      "step 1:  obs = 1 , reward = -1\n",
      "step 1:  obs = 0 , reward = -1\n",
      "step 1:  obs = 1 , reward = -1\n",
      "step 1:  obs = 2 , reward = -1\n",
      "step 1:  obs = 10 , reward = -1\n",
      "step 1:  obs = 18 , reward = -1\n",
      "step 1:  obs = 26 , reward = -1\n",
      "step 1:  obs = 27 , reward = -1\n",
      "step 1:  obs = 19 , reward = -50\n",
      "step 2:  obs = 1 , reward = -1\n",
      "step 2:  obs = 2 , reward = -1\n",
      "step 2:  obs = 10 , reward = -1\n",
      "step 2:  obs = 18 , reward = -1\n",
      "step 2:  obs = 26 , reward = -1\n",
      "step 2:  obs = 27 , reward = -1\n",
      "step 2:  obs = 28 , reward = -1\n",
      "step 2:  obs = 36 , reward = -1\n",
      "step 2:  obs = 37 , reward = -1\n",
      "step 2:  obs = 38 , reward = -1\n",
      "step 2:  obs = 39 , reward = -1\n",
      "step 2:  obs = 47 , reward = -1\n",
      "step 2:  obs = 55 , reward = -1\n",
      "step 2:  obs = 63 , reward = 100\n"
     ]
    }
   ],
   "source": [
    "\n",
    "\n",
    "# env = gym.make(\"FrozenLake-v1\", render_mode=\"rgb_array\")\n",
    "# env = gym.wrappers.TimeLimit(env, max_episode_steps=100)\n",
    "obs, info = env.reset()\n",
    "\n",
    "plt.ion()\n",
    "fig, ax = plt.subplots(figsize=(8,8))\n",
    "action_text = ax.text(510, 20, '', color='white', fontsize=12, bbox=dict(facecolor='blue', alpha=0.8))\n",
    "img = ax.imshow(env.render())\n",
    "actions = ['Move Up','Move Right','Move Down','Move Left']\n",
    "rewards = 0\n",
    "num_epochs= 3\n",
    "for step in range(num_epochs):\n",
    "    obs, info = env.reset()\n",
    "    done = False\n",
    "    while not done:\n",
    "        action = agent.choose_action(obs)\n",
    "        next_obs, reward, terminated, truncated, info = env.step(action)\n",
    "        rewards += reward\n",
    "        \n",
    "        print(f'step {step}:  obs = {next_obs} , reward = {reward}')\n",
    "        frame = env.render()\n",
    "        img.set_data(frame)\n",
    "        action_text.set_text(f'Step: {actions[action] }')\n",
    "\n",
    "        fig.canvas.draw()\n",
    "        fig.canvas.flush_events()\n",
    "        plt.pause(.05)\n",
    "        done = terminated or truncated\n",
    "        obs = next_obs\n",
    "\n",
    "plt.ioff()  # Turn off interactive mode\n",
    "# plt.show()  # Keep the window open after the animation finishes\n",
    "plt.close()\n",
    "env.close()"
   ],
   "metadata": {
    "collapsed": false,
    "ExecuteTime": {
     "end_time": "2024-07-19T20:06:53.825526900Z",
     "start_time": "2024-07-19T20:06:48.593484500Z"
    }
   },
   "id": "795a6112a7a42623",
   "execution_count": 11
  },
  {
   "cell_type": "code",
   "outputs": [],
   "source": [
    "print(f'total rewards = {rewards}')"
   ],
   "metadata": {
    "collapsed": false,
    "ExecuteTime": {
     "start_time": "2024-07-19T20:01:28.040738Z"
    }
   },
   "id": "26a84eafbb54162e",
   "execution_count": null
  },
  {
   "cell_type": "code",
   "outputs": [],
   "source": [
    "# print(f'action space shape : {env.action_space.n}') # Number of possible actions is 4\n",
    "# print(f'observation space shape : {env.observation_space}') \n",
    "# #-------------- obesrvation is a tupe of 3 values : --------------\n",
    "# #1) player cards value\n",
    "# #2) dealer's face up card\n",
    "# #3) usable ace for player, equal 1 if ace is considered an 11 without busting\n",
    "# \n",
    "# print(f'reward range : {env.reward_range}') # default reward range is set to -inf +inf\n",
    "# # print(f'\\nEnv specs : {env.spec}') \n",
    "# print(f'\\nEnv metadata : {env.metadata}') # render_modes adn render_fps"
   ],
   "metadata": {
    "collapsed": false,
    "ExecuteTime": {
     "end_time": "2024-07-19T20:01:28.043242700Z",
     "start_time": "2024-07-19T20:01:28.042241200Z"
    }
   },
   "id": "c44a122356184824",
   "execution_count": null
  }
 ],
 "metadata": {
  "kernelspec": {
   "display_name": "Python 3",
   "language": "python",
   "name": "python3"
  },
  "language_info": {
   "codemirror_mode": {
    "name": "ipython",
    "version": 2
   },
   "file_extension": ".py",
   "mimetype": "text/x-python",
   "name": "python",
   "nbconvert_exporter": "python",
   "pygments_lexer": "ipython2",
   "version": "2.7.6"
  }
 },
 "nbformat": 4,
 "nbformat_minor": 5
}
