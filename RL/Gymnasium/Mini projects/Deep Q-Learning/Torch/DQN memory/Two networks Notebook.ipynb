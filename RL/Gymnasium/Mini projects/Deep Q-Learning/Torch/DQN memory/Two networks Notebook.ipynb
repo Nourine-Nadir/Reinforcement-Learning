{
 "cells": [
  {
   "cell_type": "markdown",
   "source": [
    "# Deep Q learning for continiuous spaces\n",
    "In continuous space and in the case of this notebook, It is an image where occurs some changes by the agent or the environment itself. Treating this with a naive method won't get us a good result since a state at time t isn't relevant to estimate its reward. The solution is to get more than one state chronologically to estimate the reward of an action, then we need to store our actions and states in a memory to practice that."
   ],
   "metadata": {
    "collapsed": false
   },
   "id": "c942c44562cad2ef"
  },
  {
   "cell_type": "markdown",
   "source": [
    "# Import main libraries"
   ],
   "metadata": {
    "collapsed": false
   },
   "id": "cb7818f37b1eb679"
  },
  {
   "cell_type": "code",
   "execution_count": 5,
   "id": "initial_id",
   "metadata": {
    "collapsed": true,
    "ExecuteTime": {
     "end_time": "2024-09-01T10:48:36.638516300Z",
     "start_time": "2024-09-01T10:48:36.623577900Z"
    }
   },
   "outputs": [],
   "source": [
    "import numpy as np\n",
    "import matplotlib.pyplot as plt\n",
    "import matplotlib\n",
    "import torch as T\n",
    "import torch.nn as nn\n",
    "import torch.nn.functional as F\n",
    "import torch.optim as optim"
   ]
  },
  {
   "cell_type": "markdown",
   "source": [
    "# DeepQNetwork"
   ],
   "metadata": {
    "collapsed": false
   },
   "id": "fe5a706fe2ab3af5"
  },
  {
   "cell_type": "code",
   "outputs": [],
   "source": [
    "class DQNetwork(nn.Module):\n",
    "    def __init__(self,\n",
    "                 lr,\n",
    "                 input_dims,\n",
    "                 fc1_dims,\n",
    "                 fc2_dims,\n",
    "                 fc3_dims,\n",
    "                 nb_actions):\n",
    "        super(DQNetwork, self).__init__()\n",
    "        \n",
    "        self.input_dims = input_dims\n",
    "        self.fc1_dims = fc1_dims\n",
    "        self.fc2_dims = fc2_dims\n",
    "        self.fc3_dims = fc2_dims\n",
    "        self.nb_actions = nb_actions\n",
    "        \n",
    "\n",
    "        self.fc1= nn.Linear(*self.input_dims, self.fc1_dims)\n",
    "        self.fc2= nn.Linear(self.fc1_dims, self.fc2_dims)\n",
    "        self.fc3 = nn.Linear(self.fc2_dims, self.fc3_dims)\n",
    "        self.fc4 = nn.Linear(self.fc3_dims, self.nb_actions)\n",
    "\n",
    "        self.optimizer = optim.Adam(self.parameters(),lr=lr)\n",
    "        self.loss = nn.SmoothL1Loss()  # Use Huber loss\n",
    "        self.device = T.device('cuda:0' if T.cuda.is_available() else 'cpu')\n",
    "        self.to(self.device)\n",
    "        \n",
    "    def forward(self,state):\n",
    "        l1 = F.relu(self.fc1(state))\n",
    "        l2 = F.relu(self.fc2(l1))\n",
    "        l3 = F.relu(self.fc3(l2))\n",
    "        actions = self.fc4(l3) # don't activate the last layer\n",
    "        \n",
    "        return actions"
   ],
   "metadata": {
    "collapsed": false,
    "ExecuteTime": {
     "end_time": "2024-09-01T10:48:36.675454100Z",
     "start_time": "2024-09-01T10:48:36.645141400Z"
    }
   },
   "id": "7cc06d681b644d92",
   "execution_count": 6
  },
  {
   "cell_type": "markdown",
   "source": [
    "# Agent class"
   ],
   "metadata": {
    "collapsed": false
   },
   "id": "968a96ae49428a44"
  },
  {
   "cell_type": "code",
   "outputs": [],
   "source": [
    "class Agent():\n",
    "    def __init__(self,\n",
    "                 batch_size:float,\n",
    "                 input_dims,\n",
    "                 n_actions:int,\n",
    "                 max_mem_size:int = 10_000,\n",
    "                 gamma:float=0.99,\n",
    "                 initial_eps:float=1.0,\n",
    "                 final_eps:float=0.01,\n",
    "                 eps_decay:float=1e-4,\n",
    "                 lr:float=1e-4):\n",
    "        self.gamma= gamma\n",
    "        self.batch_size = batch_size\n",
    "        self.input_dims = input_dims\n",
    "        self.action_space = [i for i in range(n_actions)]\n",
    "        self.eps_decay = eps_decay\n",
    "        self.lr = lr\n",
    "        self.eps = initial_eps\n",
    "        self.eps_decay = eps_decay\n",
    "        self.final_eps = final_eps\n",
    "        self.mem_size = max_mem_size\n",
    "        self.mem_counter = 0        \n",
    "        self.sequence_length = 32  # You can adjust this value\n",
    "\n",
    "        self.target_update_frequency = 100\n",
    "        self.learn_step_counter = 0\n",
    "        self.Q_eval = DQNetwork(lr=self.lr,\n",
    "                                input_dims=self.input_dims,\n",
    "                                nb_actions=n_actions,\n",
    "                                fc1_dims=256, fc2_dims=128, fc3_dims=64)\n",
    "        self.Q_target =  DQNetwork(lr=self.lr,\n",
    "                                input_dims=self.input_dims,\n",
    "                                nb_actions=n_actions,\n",
    "                                fc1_dims=256, fc2_dims=128, fc3_dims=64)\n",
    "        \n",
    "        self.state_memory = np.zeros((self.mem_size, *self.input_dims), dtype=np.float32)\n",
    "        self.new_state_memory = np.zeros((self.mem_size, *self.input_dims), dtype=np.float32)\n",
    "        self.action_memory = np.zeros(self.mem_size,dtype=np.int32) # set of integers because our actions belong to a discrete space\n",
    "        self.reward_memory = np.zeros(self.mem_size,dtype=np.float32)\n",
    "        self.terminal_memory = np.zeros(self.mem_size,dtype=bool)\n",
    "    \n",
    "    def store_transition(self, state, action, reward, state_, done): #sate_ : new state\n",
    "        index = self.mem_counter % self.mem_size\n",
    "        self.state_memory[index] = state\n",
    "        self.new_state_memory[index] = state_\n",
    "        self.action_memory[index] = action\n",
    "        self.reward_memory[index] = reward\n",
    "        self.terminal_memory[index] = done\n",
    "        \n",
    "        self.mem_counter += 1\n",
    "        \n",
    "\n",
    "        \n",
    "    def choose_action(self, obs ):\n",
    "        if np.random.random() > self.eps :\n",
    "            self.Q_eval.eval()  # Set to evaluation mode\n",
    "            with T.no_grad():\n",
    "                state = T.tensor(np.array([obs])).to(self.Q_eval.device)\n",
    "                actions = self.Q_eval.forward(state)\n",
    "            self.Q_eval.train()  # Set back to training mode\n",
    "            action = T.argmax(actions).item()\n",
    "        else:\n",
    "            action = np.random.choice(self.action_space)\n",
    "        \n",
    "        return action\n",
    "        \n",
    "    def learn(self):\n",
    "        if self.mem_counter < self.batch_size:\n",
    "            return \n",
    "        \n",
    "        self.Q_eval.optimizer.zero_grad()\n",
    "        \n",
    "        max_mem = min(self.mem_size, self.mem_counter)  \n",
    "        batch = np.random.choice(max_mem, size=self.batch_size, replace=False)\n",
    "        \n",
    "        batch_index = np.arange(self.batch_size, dtype=np.int32)\n",
    "        \n",
    "        state_batch = T.tensor(self.state_memory[batch]).to(self.Q_eval.device)\n",
    "        new_state_batch = T.tensor(self.new_state_memory[batch]).to(self.Q_eval.device)\n",
    "        reward_batch = T.tensor(self.reward_memory[batch]).to(self.Q_eval.device)\n",
    "        terminal_batch = T.tensor(self.terminal_memory[batch]).to(self.Q_eval.device)\n",
    "        \n",
    "        action_batch = self.action_memory[batch]\n",
    "        \n",
    "        q_eval = self.Q_eval.forward(state_batch)[batch_index, action_batch]\n",
    "        self.Q_target.eval()  # Set to evaluation mode\n",
    "        with T.no_grad():\n",
    "            q_next = self.Q_target.forward(new_state_batch)\n",
    "        self.Q_target.train()  # Set back to training mode\n",
    "     \n",
    "        q_next[terminal_batch] = 0.0\n",
    "        \n",
    "        q_target = reward_batch + self.gamma * T.max(q_next, dim=1)[0]\n",
    "        \n",
    "        loss = self.Q_eval.loss(q_target, q_eval).to(self.Q_eval.device)\n",
    "        loss.backward()\n",
    "        self.Q_eval.optimizer.step()\n",
    "        \n",
    "        self.learn_step_counter += 1\n",
    "        if self.learn_step_counter % self.target_update_frequency == 0:\n",
    "            self.Q_target.load_state_dict(self.Q_eval.state_dict())\n",
    "        \n",
    "        self.eps = max((self.eps - self.eps_decay), self.final_eps)\n",
    "        "
   ],
   "metadata": {
    "collapsed": false,
    "ExecuteTime": {
     "end_time": "2024-09-01T10:48:36.690862Z",
     "start_time": "2024-09-01T10:48:36.674424500Z"
    }
   },
   "id": "46b1f3bbfdd1c83",
   "execution_count": 7
  },
  {
   "cell_type": "code",
   "outputs": [
    {
     "name": "stdout",
     "output_type": "stream",
     "text": [
      "Episode 0  avg score -206.3 epsilon 1.000\n",
      "Episode 100  avg score -133.3 epsilon 0.813\n",
      "Episode 200  avg score -73.0 epsilon 0.582\n",
      "Episode 300  avg score -159.2 epsilon 0.050\n",
      "Episode 400  avg score -147.4 epsilon 0.050\n",
      "Episode 500  avg score 24.1 epsilon 0.050\n",
      "Episode 600  avg score 142.8 epsilon 0.050\n",
      "Episode 700  avg score 154.3 epsilon 0.050\n",
      "Episode 800  avg score 183.4 epsilon 0.050\n"
     ]
    },
    {
     "data": {
      "text/plain": "<Figure size 640x480 with 2 Axes>",
      "image/png": "[encoded data removed]"
     },
     "metadata": {},
     "output_type": "display_data"
    }
   ],
   "source": [
    "import gymnasium as gym\n",
    "import numpy as np\n",
    "from utils import plotLearning\n",
    "\n",
    "if __name__ == '__main__':\n",
    "    env = gym.make('LunarLander-v2')\n",
    "    agent = Agent(gamma=.99,\n",
    "                  initial_eps=1.0,\n",
    "                  eps_decay=2e-5,\n",
    "                  final_eps=0.05,\n",
    "                  batch_size=128,\n",
    "                  n_actions=4,\n",
    "                  input_dims=[8],\n",
    "                  lr=0.0001,\n",
    "                  max_mem_size=10_000)\n",
    "    scores, eps_history = [],[]\n",
    "    n_episodes = 900\n",
    "    j= n_episodes\n",
    "    avg_score =-9999\n",
    "    for i in range(n_episodes):\n",
    "        score = 0\n",
    "        done = False\n",
    "        obs, info = env.reset()\n",
    "        # if avg_score >-40 :\n",
    "        #     j=i\n",
    "        #     break\n",
    "        while not done:\n",
    "            action = agent.choose_action(obs)\n",
    "            obs_, reward, terminated, truncated, info = env.step(action)\n",
    "            score += reward\n",
    "            agent.store_transition(obs, action, reward, obs_, done)\n",
    "            agent.learn()\n",
    "            obs = obs_\n",
    "            done = terminated or truncated\n",
    "        scores.append(score)\n",
    "        eps_history.append(agent.eps)\n",
    "        #\n",
    "        if i % 100 == 0:\n",
    "                avg_score = np.mean(scores[-100:]) \n",
    "                print('Episode', i, ' avg score %.1f epsilon %.3f'% ( avg_score,agent.eps) )\n",
    "    x = [i+1 for i in range(j)]\n",
    "    filename = 'lunar_lander.png'\n",
    "    plotLearning(x, scores,eps_history, filename)"
   ],
   "metadata": {
    "collapsed": false,
    "ExecuteTime": {
     "end_time": "2024-09-01T11:08:44.717721700Z",
     "start_time": "2024-09-01T10:48:36.690862Z"
    }
   },
   "id": "cf1c9f9629526b19",
   "execution_count": 8
  },
  {
   "cell_type": "code",
   "outputs": [
    {
     "ename": "TclError",
     "evalue": "can't invoke \"update\" command: application has been destroyed",
     "output_type": "error",
     "traceback": [
      "\u001B[1;31m---------------------------------------------------------------------------\u001B[0m",
      "\u001B[1;31mTclError\u001B[0m                                  Traceback (most recent call last)",
      "Cell \u001B[1;32mIn[9], line 26\u001B[0m\n\u001B[0;32m     23\u001B[0m action_text\u001B[38;5;241m.\u001B[39mset_text(\u001B[38;5;124mf\u001B[39m\u001B[38;5;124m'\u001B[39m\u001B[38;5;124mStep: \u001B[39m\u001B[38;5;132;01m{\u001B[39;00mactions[action]\u001B[38;5;250m \u001B[39m\u001B[38;5;132;01m}\u001B[39;00m\u001B[38;5;124m'\u001B[39m)\n\u001B[0;32m     25\u001B[0m fig\u001B[38;5;241m.\u001B[39mcanvas\u001B[38;5;241m.\u001B[39mdraw()\n\u001B[1;32m---> 26\u001B[0m \u001B[43mfig\u001B[49m\u001B[38;5;241;43m.\u001B[39;49m\u001B[43mcanvas\u001B[49m\u001B[38;5;241;43m.\u001B[39;49m\u001B[43mflush_events\u001B[49m\u001B[43m(\u001B[49m\u001B[43m)\u001B[49m\n\u001B[0;32m     27\u001B[0m done \u001B[38;5;241m=\u001B[39m terminated \u001B[38;5;129;01mor\u001B[39;00m truncated\n\u001B[0;32m     28\u001B[0m obs \u001B[38;5;241m=\u001B[39m next_obs\n",
      "File \u001B[1;32m~\\PycharmProjects\\DeepLearning\\.venv\\lib\\site-packages\\matplotlib\\backends\\_backend_tk.py:414\u001B[0m, in \u001B[0;36mFigureCanvasTk.flush_events\u001B[1;34m(self)\u001B[0m\n\u001B[0;32m    412\u001B[0m \u001B[38;5;28;01mdef\u001B[39;00m \u001B[38;5;21mflush_events\u001B[39m(\u001B[38;5;28mself\u001B[39m):\n\u001B[0;32m    413\u001B[0m     \u001B[38;5;66;03m# docstring inherited\u001B[39;00m\n\u001B[1;32m--> 414\u001B[0m     \u001B[38;5;28;43mself\u001B[39;49m\u001B[38;5;241;43m.\u001B[39;49m\u001B[43m_tkcanvas\u001B[49m\u001B[38;5;241;43m.\u001B[39;49m\u001B[43mupdate\u001B[49m\u001B[43m(\u001B[49m\u001B[43m)\u001B[49m\n",
      "File \u001B[1;32m~\\AppData\\Local\\Programs\\Python\\Python39\\lib\\tkinter\\__init__.py:1314\u001B[0m, in \u001B[0;36mMisc.update\u001B[1;34m(self)\u001B[0m\n\u001B[0;32m   1312\u001B[0m \u001B[38;5;28;01mdef\u001B[39;00m \u001B[38;5;21mupdate\u001B[39m(\u001B[38;5;28mself\u001B[39m):\n\u001B[0;32m   1313\u001B[0m \u001B[38;5;250m    \u001B[39m\u001B[38;5;124;03m\"\"\"Enter event loop until all pending events have been processed by Tcl.\"\"\"\u001B[39;00m\n\u001B[1;32m-> 1314\u001B[0m     \u001B[38;5;28;43mself\u001B[39;49m\u001B[38;5;241;43m.\u001B[39;49m\u001B[43mtk\u001B[49m\u001B[38;5;241;43m.\u001B[39;49m\u001B[43mcall\u001B[49m\u001B[43m(\u001B[49m\u001B[38;5;124;43m'\u001B[39;49m\u001B[38;5;124;43mupdate\u001B[39;49m\u001B[38;5;124;43m'\u001B[39;49m\u001B[43m)\u001B[49m\n",
      "\u001B[1;31mTclError\u001B[0m: can't invoke \"update\" command: application has been destroyed"
     ]
    }
   ],
   "source": [
    "import matplotlib\n",
    "matplotlib.use('TkAgg')  # or 'Qt5Agg' if you prefer Qt\n",
    "env = gym.make('LunarLander-v2', render_mode = 'rgb_array')\n",
    "obs, info = env.reset()\n",
    "\n",
    "plt.ion()\n",
    "fig, ax = plt.subplots(figsize=(8,8))\n",
    "action_text = ax.text(510, 20, '', color='white', fontsize=12, bbox=dict(facecolor='blue', alpha=0.8))\n",
    "actions = ['nothing','Left','main','Right']\n",
    "img = ax.imshow(env.render())\n",
    "rewards = 0\n",
    "num_epochs= 1000\n",
    "for step in range(num_epochs):\n",
    "    obs, info = env.reset()\n",
    "    done = False\n",
    "    while not done:\n",
    "        action = agent.choose_action(obs)\n",
    "        next_obs, reward, terminated, truncated, info = env.step(action)\n",
    "        \n",
    "        rewards += reward\n",
    "        frame = env.render()\n",
    "        img.set_data(frame)\n",
    "        action_text.set_text(f'Step: {actions[action] }')\n",
    "\n",
    "        fig.canvas.draw()\n",
    "        fig.canvas.flush_events()\n",
    "        done = terminated or truncated\n",
    "        obs = next_obs\n",
    "\n",
    "plt.ioff()  # Turn off interactive mode\n",
    "# plt.show()  # Keep the window open after the animation finishes\n",
    "plt.close()\n",
    "env.close()"
   ],
   "metadata": {
    "collapsed": false,
    "ExecuteTime": {
     "end_time": "2024-09-01T11:19:41.817607900Z",
     "start_time": "2024-09-01T11:08:44.719807200Z"
    }
   },
   "id": "73f443e038177892",
   "execution_count": 9
  }
 ],
 "metadata": {
  "kernelspec": {
   "display_name": "Python 3",
   "language": "python",
   "name": "python3"
  },
  "language_info": {
   "codemirror_mode": {
    "name": "ipython",
    "version": 2
   },
   "file_extension": ".py",
   "mimetype": "text/x-python",
   "name": "python",
   "nbconvert_exporter": "python",
   "pygments_lexer": "ipython2",
   "version": "2.7.6"
  }
 },
 "nbformat": 4,
 "nbformat_minor": 5
}
