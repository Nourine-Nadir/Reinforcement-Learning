{
 "cells": [
  {
   "cell_type": "markdown",
   "source": [
    "# →Q-Learning\n",
    "\n",
    "It is temporal difference learning on $Q$-function\n",
    "\n",
    "$Q^{new}(s_k,a_k)=Q^{old}(s_k,a_k)+\\alpha(r_k+\\gamma \\max_a Q(s_{k+1},a)-Q^{old}(s_k,a_k))$ \n",
    "\n",
    "Off policy TD(0) learning of the quality function Q\n",
    "\n",
    "What we mean by **Off policy** is that we can take **sub-optimal** $a_k$ actions to get the reward but still **maximize** the next action in $s_{k+1}$ though, this helps to learn even when **not taking best** $a_k$ actions.\n",
    "\n",
    "The Off policy can be **confusing** since we are saying that we can take **sub-optimal** actions but there is that **term** in the update function: $max_a Q(s_{k+1},a)$\n",
    "\n",
    "**Many** policies are used in **experiments** and at the **experience replay** step we iterate through actions even if they are sub-optimal but we **assume** that the **best** actions will be taken in next steps. This is done by replaying experiments done **by us** or **importing** others and learn from them; this ensure treating **different** policies.\n",
    "\n",
    "**Exploration vs. exploitation: $\\epsilon$-greedy actions**\n",
    "\n",
    "**Random** exploration element is introduced to $Q$-learning, the popular technique is the  **$\\epsilon$-greedy.** Taking the action $a_k$ will be taken based on the current $Q$ function, with a probability $1-\\epsilon$, where $\\epsilon \\in[0,1]$. for example $\\epsilon=0.05$ there will be a 95% **probability** of taking best action and 5% **chance** of exploring a sub-optimal one. \n",
    "\n",
    "This epsilon value can be decayed as we iterate to go more **On-Policy** once we learned a good $Q$-function.\n",
    "\n",
    "$Q$ -learning applies to **discrete** action spaces $A$ and state spaces $S$ governed by a **finite** MDP. A table of $Q$ values is used to represent the $Q$ function, and thus it doesn’t **scale** well to **large** state spaces. Typically function **approximation** is used to represent the $Q$ function, such as a **neural network** in deep $Q$-learning.\n",
    "\n",
    "> Because $Q$-learning is off-policy, it is possible to learn from action-state sequences that do not use the current optimal policy. For example, it is possible to store past experiences, such as previously played games, and replay these experiences to further improve the Q function.\n",
    ">"
   ],
   "metadata": {
    "collapsed": false
   },
   "id": "796c81486620375a"
  },
  {
   "cell_type": "code",
   "outputs": [],
   "source": [
    "import gymnasium as gym\n",
    "import matplotlib\n",
    "import matplotlib.pyplot as plt\n",
    "from matplotlib.patches import Patch\n",
    "import numpy as np\n",
    "import seaborn as sns\n",
    "from tqdm import tqdm\n",
    "from collections import defaultdict # allows access to undefined keys\n",
    "matplotlib.use('TkAgg')  # or 'Qt5Agg' if you prefer Qt"
   ],
   "metadata": {
    "collapsed": true,
    "ExecuteTime": {
     "end_time": "2024-09-02T13:04:06.631277200Z",
     "start_time": "2024-09-02T13:04:06.204146600Z"
    }
   },
   "id": "initial_id",
   "execution_count": 1
  },
  {
   "cell_type": "code",
   "outputs": [],
   "source": [
    "class BlackjackAgent():\n",
    "    def __init__(self,\n",
    "                 learning_rate:float,\n",
    "                 initial_epsilon:float,\n",
    "                 epsilon_decay:float,\n",
    "                 final_epsilon:float,\n",
    "                 discount_factor:float = 0.95,\n",
    "                 ):\n",
    "        \n",
    "    #Initialize the agent with empty dictionary of action/state values (q_values), a learning rate and an epsilon\n",
    "    # discount_factor : Is for computing the Q-value namely gamma \n",
    "        self.q_values = defaultdict(lambda: np.zeros(env.action_space.n))\n",
    "    \n",
    "        self.lr = learning_rate\n",
    "        self.epsilon = initial_epsilon\n",
    "        self.epsilon_decay = epsilon_decay\n",
    "        self.final_epsilon = final_epsilon\n",
    "        self.discount_factor = discount_factor\n",
    "        \n",
    "        self.training_error = []\n",
    "    \n",
    "    def choose_action(self, obs:tuple[int,int,bool])->int:\n",
    "        # Return the best action with a probability of (1- epsilon) \n",
    "        if np.random.random() < self.epsilon:\n",
    "            return env.action_space.sample()\n",
    "        else:\n",
    "            return int(np.argmax(self.q_values[obs]))\n",
    "    \n",
    "    def update_q_values(self,\n",
    "                        obs:tuple[int,int,bool],\n",
    "                        action:int,\n",
    "                        reward:float,\n",
    "                        terminated:bool,\n",
    "                        next_obs:tuple[int,int,bool]):\n",
    "        future_q_value = (not terminated) * np.max(self.q_values[next_obs])\n",
    "\n",
    "        temporal_diffrence = (reward + (self.discount_factor * future_q_value))- self.q_values[obs][action]\n",
    "        \n",
    "        self.q_values[obs][action] = (\n",
    "            self.q_values[obs][action] + self.lr * temporal_diffrence\n",
    "        )\n",
    "        self.training_error.append(temporal_diffrence)\n",
    "        \n",
    "    def decay_epsilon(self):\n",
    "        self.epsilon = max(self.final_epsilon, self.epsilon * self.epsilon_decay)"
   ],
   "metadata": {
    "collapsed": false,
    "ExecuteTime": {
     "end_time": "2024-09-02T13:04:06.653281800Z",
     "start_time": "2024-09-02T13:04:06.635277700Z"
    }
   },
   "id": "71382b775326e544",
   "execution_count": 2
  },
  {
   "cell_type": "code",
   "outputs": [],
   "source": [
    "learning_rate = 0.01\n",
    "n_episodes = 10_000\n",
    "start_epsilon = 1\n",
    "epsilon_decay = 0.99\n",
    "final_epsilon = 0.05\n",
    "\n",
    "agent = BlackjackAgent(\n",
    "    learning_rate=learning_rate,\n",
    "    initial_epsilon=start_epsilon,\n",
    "    final_epsilon=final_epsilon,\n",
    "    epsilon_decay=epsilon_decay,\n",
    "    \n",
    "    \n",
    ")"
   ],
   "metadata": {
    "collapsed": false,
    "ExecuteTime": {
     "end_time": "2024-09-02T13:04:06.666285100Z",
     "start_time": "2024-09-02T13:04:06.649281100Z"
    }
   },
   "id": "ef93af5919d22a69",
   "execution_count": 3
  },
  {
   "cell_type": "code",
   "outputs": [],
   "source": [
    "def train_td_n(agent, env, n_steps, n_episodes):\n",
    "    for episode in tqdm(range(n_episodes)):\n",
    "        state, _ = env.reset()\n",
    "        done = False\n",
    "        rewards = []\n",
    "        states = []\n",
    "        actions = []\n",
    "\n",
    "        while not done:\n",
    "            action = agent.choose_action(state)\n",
    "            next_state, reward, terminated, truncated, _ = env.step(action)\n",
    "            done = terminated or truncated\n",
    "\n",
    "            rewards.append(reward)\n",
    "            states.append(state)\n",
    "            actions.append(action)\n",
    "\n",
    "            if len(rewards) == n_steps or done:\n",
    "                return_sum = sum([agent.discount_factor**i * r for i, r in enumerate(rewards)])\n",
    "                if not done:\n",
    "                    return_sum += agent.discount_factor**n_steps * np.max(agent.q_values[next_state])\n",
    "                \n",
    "                for i in range(len(rewards)):\n",
    "                    G = sum([agent.discount_factor**(j-i) * r for j, r in enumerate(rewards[i:])])\n",
    "                    if i + len(rewards) - 1 < n_steps and not done:\n",
    "                        G += agent.discount_factor**(len(rewards)-i) * np.max(agent.q_values[next_state])\n",
    "                    agent.update_q_values(states[i], actions[i], G, terminated, next_state)\n",
    "\n",
    "                rewards.pop(0)\n",
    "                states.pop(0)\n",
    "                actions.pop(0)\n",
    "\n",
    "            state = next_state\n",
    "\n",
    "        agent.decay_epsilon()"
   ],
   "metadata": {
    "collapsed": false,
    "ExecuteTime": {
     "end_time": "2024-09-02T13:04:06.683289800Z",
     "start_time": "2024-09-02T13:04:06.670285600Z"
    }
   },
   "id": "cb71db2b4afe38c5",
   "execution_count": 4
  },
  {
   "cell_type": "code",
   "outputs": [],
   "source": [
    "env = gym.make(\"Blackjack-v1\", sab=True)\n",
    "env = gym.wrappers.RecordEpisodeStatistics(env, deque_size=n_episodes)"
   ],
   "metadata": {
    "collapsed": false,
    "ExecuteTime": {
     "end_time": "2024-09-02T13:04:06.698369300Z",
     "start_time": "2024-09-02T13:04:06.679289400Z"
    }
   },
   "id": "40360a309c0449ea",
   "execution_count": 5
  },
  {
   "cell_type": "code",
   "outputs": [
    {
     "name": "stderr",
     "output_type": "stream",
     "text": [
      "100%|██████████| 10000/10000 [00:01<00:00, 5174.98it/s]\n"
     ]
    }
   ],
   "source": [
    "train_td_n(agent, env, n_steps=3, n_episodes=n_episodes, )"
   ],
   "metadata": {
    "collapsed": false,
    "ExecuteTime": {
     "end_time": "2024-09-02T13:04:08.640746100Z",
     "start_time": "2024-09-02T13:04:06.696370Z"
    }
   },
   "id": "36188ea7b8848f54",
   "execution_count": 6
  },
  {
   "cell_type": "code",
   "outputs": [
    {
     "name": "stdout",
     "output_type": "stream",
     "text": [
      "369\n"
     ]
    }
   ],
   "source": [
    "print(len(agent.q_values))\n"
   ],
   "metadata": {
    "collapsed": false,
    "ExecuteTime": {
     "end_time": "2024-09-02T13:04:08.652747300Z",
     "start_time": "2024-09-02T13:04:08.637745200Z"
    }
   },
   "id": "fa5d6e44bd8378ae",
   "execution_count": 7
  },
  {
   "cell_type": "markdown",
   "source": [
    "In the Blackjack environment, the state space is defined by three components:\n",
    "\n",
    "- The player's current sum (ranges from 4 to 21)\n",
    "- The dealer's visible card (ranges from 1 to 10, where 1 represents an Ace)\n",
    "- Whether the player has a usable Ace (True or False)\n",
    "\n",
    "So, the total number of possible states is:\n",
    "(21 - 4 + 1) * 10 * 2 = 18 * 10 * 2 = 360\n",
    "However, you're seeing 380 instead of 360. This is because the environment also includes some terminal states that can occur when the player's sum exceeds 21 (bust states). These additional states account for the extra 20 entries in your q_values dictionary."
   ],
   "metadata": {
    "collapsed": false
   },
   "id": "e1c59375e9d58b82"
  },
  {
   "cell_type": "code",
   "outputs": [],
   "source": [
    "rolling_length = 500\n",
    "fig, axs = plt.subplots(ncols=3, figsize=(12, 5))\n",
    "axs[0].set_title(\"Episode rewards\")\n",
    "# compute and assign a rolling average of the data to provide a smoother graph\n",
    "reward_moving_average = (\n",
    "    np.convolve(\n",
    "        np.array(env.return_queue).flatten(), np.ones(rolling_length), mode=\"valid\"\n",
    "    )\n",
    "    / rolling_length\n",
    ")\n",
    "axs[0].plot(range(len(reward_moving_average)), reward_moving_average)\n",
    "axs[1].set_title(\"Episode lengths\")\n",
    "length_moving_average = (\n",
    "    np.convolve(\n",
    "        np.array(env.length_queue).flatten(), np.ones(rolling_length), mode=\"same\"\n",
    "    )\n",
    "    / rolling_length\n",
    ")\n",
    "axs[1].plot(range(len(length_moving_average)), length_moving_average)\n",
    "axs[2].set_title(\"Training Error\")\n",
    "training_error_moving_average = (\n",
    "    np.convolve(np.array(agent.training_error), np.ones(rolling_length), mode=\"same\")\n",
    "    / rolling_length\n",
    ")\n",
    "axs[2].plot(range(len(training_error_moving_average)), training_error_moving_average)\n",
    "plt.tight_layout()\n",
    "plt.show()"
   ],
   "metadata": {
    "collapsed": false,
    "ExecuteTime": {
     "end_time": "2024-09-02T13:04:12.972633600Z",
     "start_time": "2024-09-02T13:04:08.656748300Z"
    }
   },
   "id": "29b323d24413638a",
   "execution_count": 8
  },
  {
   "cell_type": "code",
   "outputs": [
    {
     "name": "stdout",
     "output_type": "stream",
     "text": [
      "step 0:  obs = (9, 4, 0)\n",
      "step 0:  obs = (17, 4, 0)\n",
      "step 1:  obs = (16, 4, 0)\n"
     ]
    }
   ],
   "source": [
    "env = gym.make(\"Blackjack-v1\", render_mode=\"rgb_array\")\n",
    "obs, info = env.reset()\n",
    "\n",
    "plt.ion()\n",
    "fig, ax = plt.subplots(figsize=(8,8))\n",
    "action_text = ax.text(510, 20, '', color='white', fontsize=12, bbox=dict(facecolor='blue', alpha=0.8))\n",
    "actions = ['Stick','Hit']\n",
    "img = ax.imshow(env.render())\n",
    "rewards = 0\n",
    "num_epochs= 2\n",
    "for step in range(num_epochs):\n",
    "    obs, info = env.reset()\n",
    "    done = False\n",
    "    while not done:\n",
    "        print(f'step {step}:  obs = {obs}')\n",
    "        action = agent.choose_action(obs)\n",
    "        next_obs, reward, terminated, truncated, info = env.step(action)\n",
    "        rewards += reward\n",
    "        frame = env.render()\n",
    "        img.set_data(frame)\n",
    "        action_text.set_text(f'Step: {actions[action] }')\n",
    "\n",
    "        fig.canvas.draw()\n",
    "        fig.canvas.flush_events()\n",
    "        plt.pause(.05)\n",
    "        done = terminated or truncated\n",
    "        obs = next_obs\n",
    "\n",
    "plt.ioff()  # Turn off interactive mode\n",
    "# plt.show()  # Keep the window open after the animation finishes\n",
    "plt.close()\n",
    "env.close()"
   ],
   "metadata": {
    "collapsed": false,
    "ExecuteTime": {
     "end_time": "2024-09-02T13:04:14.365968900Z",
     "start_time": "2024-09-02T13:04:12.970633Z"
    }
   },
   "id": "795a6112a7a42623",
   "execution_count": 9
  },
  {
   "cell_type": "code",
   "outputs": [
    {
     "name": "stdout",
     "output_type": "stream",
     "text": [
      "total rewards = 0.0\n"
     ]
    }
   ],
   "source": [
    "print(f'total rewards = {rewards}')"
   ],
   "metadata": {
    "collapsed": false,
    "ExecuteTime": {
     "end_time": "2024-09-02T13:04:14.383047300Z",
     "start_time": "2024-09-02T13:04:14.367969Z"
    }
   },
   "id": "26a84eafbb54162e",
   "execution_count": 10
  },
  {
   "cell_type": "code",
   "outputs": [],
   "source": [],
   "metadata": {
    "collapsed": false,
    "ExecuteTime": {
     "end_time": "2024-09-02T13:04:14.415588700Z",
     "start_time": "2024-09-02T13:04:14.382046800Z"
    }
   },
   "id": "fb8534ec66ebbc84",
   "execution_count": 10
  },
  {
   "cell_type": "code",
   "outputs": [
    {
     "name": "stdout",
     "output_type": "stream",
     "text": [
      "action space shape : 2\n",
      "observation space shape : Tuple(Discrete(32), Discrete(11), Discrete(2))\n",
      "reward range : (-inf, inf)\n",
      "\n",
      "Env metadata : {'render_modes': ['human', 'rgb_array'], 'render_fps': 4}\n"
     ]
    }
   ],
   "source": [
    "print(f'action space shape : {env.action_space.n}') # Number of possible actions is 4\n",
    "print(f'observation space shape : {env.observation_space}') \n",
    "#-------------- obesrvation is a tupe of 3 values : --------------\n",
    "#1) player cards value\n",
    "#2) dealer's face up card\n",
    "#3) usable ace for player, equal 1 if ace is considered an 11 without busting\n",
    "\n",
    "print(f'reward range : {env.reward_range}') # default reward range is set to -inf +inf\n",
    "# print(f'\\nEnv specs : {env.spec}') \n",
    "print(f'\\nEnv metadata : {env.metadata}') # render_modes adn render_fps"
   ],
   "metadata": {
    "collapsed": false,
    "ExecuteTime": {
     "end_time": "2024-09-02T13:04:14.558093700Z",
     "start_time": "2024-09-02T13:04:14.398557900Z"
    }
   },
   "id": "c44a122356184824",
   "execution_count": 11
  }
 ],
 "metadata": {
  "kernelspec": {
   "display_name": "Python 3",
   "language": "python",
   "name": "python3"
  },
  "language_info": {
   "codemirror_mode": {
    "name": "ipython",
    "version": 2
   },
   "file_extension": ".py",
   "mimetype": "text/x-python",
   "name": "python",
   "nbconvert_exporter": "python",
   "pygments_lexer": "ipython2",
   "version": "2.7.6"
  }
 },
 "nbformat": 4,
 "nbformat_minor": 5
}
