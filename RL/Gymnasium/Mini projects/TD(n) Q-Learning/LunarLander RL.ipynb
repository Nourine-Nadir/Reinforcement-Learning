{
 "cells": [
  {
   "cell_type": "markdown",
   "source": [
    "# →Q-Learning\n",
    "\n",
    "It is temporal difference learning on $Q$-function\n",
    "\n",
    "$Q^{new}(s_k,a_k)=Q^{old}(s_k,a_k)+\\alpha(r_k+\\gamma \\max_a Q(s_{k+1},a)-Q^{old}(s_k,a_k))$ \n",
    "\n",
    "Off policy TD(0) learning of the quality function Q\n",
    "\n",
    "What we mean by **Off policy** is that we can take **sub-optimal** $a_k$ actions to get the reward but still **maximize** the next action in $s_{k+1}$ though, this helps to learn even when **not taking best** $a_k$ actions.\n",
    "\n",
    "The Off policy can be **confusing** since we are saying that we can take **sub-optimal** actions but there is that **term** in the update function: $max_a Q(s_{k+1},a)$\n",
    "\n",
    "**Many** policies are used in **experiments** and at the **experience replay** step we iterate through actions even if they are sub-optimal but we **assume** that the **best** actions will be taken in next steps. This is done by replaying experiments done **by us** or **importing** others and learn from them; this ensure treating **different** policies.\n",
    "\n",
    "**Exploration vs. exploitation: $\\epsilon$-greedy actions**\n",
    "\n",
    "**Random** exploration element is introduced to $Q$-learning, the popular technique is the  **$\\epsilon$-greedy.** Taking the action $a_k$ will be taken based on the current $Q$ function, with a probability $1-\\epsilon$, where $\\epsilon \\in[0,1]$. for example $\\epsilon=0.05$ there will be a 95% **probability** of taking best action and 5% **chance** of exploring a sub-optimal one. \n",
    "\n",
    "This epsilon value can be decayed as we iterate to go more **On-Policy** once we learned a good $Q$-function.\n",
    "\n",
    "$Q$ -learning applies to **discrete** action spaces $A$ and state spaces $S$ governed by a **finite** MDP. A table of $Q$ values is used to represent the $Q$ function, and thus it doesn’t **scale** well to **large** state spaces. Typically function **approximation** is used to represent the $Q$ function, such as a **neural network** in deep $Q$-learning.\n",
    "\n",
    "> Because $Q$-learning is off-policy, it is possible to learn from action-state sequences that do not use the current optimal policy. For example, it is possible to store past experiences, such as previously played games, and replay these experiences to further improve the Q function.\n",
    ">"
   ],
   "metadata": {
    "collapsed": false
   },
   "id": "d539f2a704def688"
  },
  {
   "cell_type": "code",
   "outputs": [],
   "source": [
    "import gymnasium as gym\n",
    "import matplotlib\n",
    "import matplotlib.pyplot as plt\n",
    "from matplotlib.patches import Patch\n",
    "import numpy as np\n",
    "import seaborn as sns\n",
    "from tqdm import tqdm\n",
    "from collections import defaultdict # allows access to undefined keys\n",
    "matplotlib.use('TkAgg')  # or 'Qt5Agg' if you prefer Qt"
   ],
   "metadata": {
    "collapsed": true,
    "ExecuteTime": {
     "end_time": "2024-09-02T13:07:45.988004100Z",
     "start_time": "2024-09-02T13:07:45.980002200Z"
    }
   },
   "id": "initial_id",
   "execution_count": 49
  },
  {
   "cell_type": "code",
   "outputs": [],
   "source": [
    "class LunarLanderAgent:\n",
    "    def __init__(self,\n",
    "                 learning_rate: float,\n",
    "                 initial_epsilon: float,\n",
    "                 epsilon_decay: float,\n",
    "                 final_epsilon: float,\n",
    "                 discount_factor: float = 0.95,\n",
    "                 discrete_actions: int = 4):\n",
    "        \n",
    "        self.lr = learning_rate\n",
    "        self.epsilon = initial_epsilon\n",
    "        self.epsilon_decay = epsilon_decay\n",
    "        self.final_epsilon = final_epsilon\n",
    "        self.discount_factor = discount_factor\n",
    "        self.discrete_actions = discrete_actions\n",
    "        \n",
    "        # Initialize Q-table\n",
    "        self.q_values = defaultdict(lambda: np.zeros(self.discrete_actions))\n",
    "        \n",
    "        self.training_error = []\n",
    "    \n",
    "    def discretize_state(self, state):\n",
    "        # Round each value in the state to 1 decimal place\n",
    "        # Convert to tuple for hashability\n",
    "       \n",
    "        rounded_state = np.round(state, 1)  # Slice to exclude last element\n",
    "        # Append the original terminated flag (boolean)\n",
    "        return tuple(np.append(rounded_state, state[-1])) \n",
    "    \n",
    "    def choose_action(self, state):\n",
    "        discretized_state = self.discretize_state(state)\n",
    "        \n",
    "        if np.random.random() < self.epsilon:\n",
    "            return np.random.randint(self.discrete_actions)\n",
    "        else:\n",
    "            return int(np.argmax(self.q_values[discretized_state]))\n",
    "    \n",
    "    def update_q_values(self, state, action, reward, terminated, next_state):\n",
    "        state = self.discretize_state(state)\n",
    "        next_state = self.discretize_state(next_state)\n",
    "        \n",
    "        if not terminated:          \n",
    "            future_q_value = np.max(self.q_values[next_state])\n",
    "        else:\n",
    "            future_q_value = 0\n",
    "        temporal_difference = (reward + (self.discount_factor * future_q_value)) - self.q_values[state][action]\n",
    "        self.q_values[state][action] += self.lr * temporal_difference\n",
    "        self.training_error.append(temporal_difference)\n",
    "        \n",
    "    def decay_epsilon(self):\n",
    "        self.epsilon = max(self.final_epsilon, self.epsilon * self.epsilon_decay)"
   ],
   "metadata": {
    "collapsed": false,
    "ExecuteTime": {
     "end_time": "2024-09-02T13:07:46.008008800Z",
     "start_time": "2024-09-02T13:07:45.999008Z"
    }
   },
   "id": "71382b775326e544",
   "execution_count": 50
  },
  {
   "cell_type": "code",
   "outputs": [],
   "source": [
    "def train_td_n(agent, env, n_steps, n_episodes):\n",
    "    for episode in tqdm(range(n_episodes)):\n",
    "        state, _ = env.reset()\n",
    "        done = False\n",
    "        rewards = []\n",
    "        states = []\n",
    "        actions = []\n",
    "\n",
    "        while not done:\n",
    "            action = agent.choose_action(state)\n",
    "            next_state, reward, terminated, truncated, _ = env.step(action)\n",
    "            done = terminated or truncated\n",
    "\n",
    "            rewards.append(reward)\n",
    "            states.append(state)\n",
    "            actions.append(action)\n",
    "            state = agent.discretize_state(state)#\n",
    "            next_state = agent.discretize_state(next_state)\n",
    "            if len(rewards) == n_steps or done:\n",
    "                return_sum = sum([agent.discount_factor**i * r for i, r in enumerate(rewards)])\n",
    "                if not done:\n",
    "                    return_sum += agent.discount_factor**n_steps * np.max(agent.q_values[next_state])\n",
    "                \n",
    "                for i in range(len(rewards)):\n",
    "                    G = sum([agent.discount_factor**(j-i) * r for j, r in enumerate(rewards[i:])])\n",
    "                    if i + len(rewards) - 1 < n_steps and not done:\n",
    "                        G += agent.discount_factor**(len(rewards)-i) * np.max(agent.q_values[next_state])\n",
    "                    agent.update_q_values(states[i], actions[i], G, terminated, next_state)\n",
    "\n",
    "                rewards.pop(0)\n",
    "                states.pop(0)\n",
    "                actions.pop(0)\n",
    "\n",
    "            state = next_state\n",
    "\n",
    "        agent.decay_epsilon()"
   ],
   "metadata": {
    "collapsed": false,
    "ExecuteTime": {
     "end_time": "2024-09-02T13:07:46.036526Z",
     "start_time": "2024-09-02T13:07:46.019012700Z"
    }
   },
   "id": "104aba317b9b8593",
   "execution_count": 51
  },
  {
   "cell_type": "code",
   "outputs": [],
   "source": [
    "learning_rate = .1\n",
    "n_episodes = 100_0\n",
    "start_epsilon = 1\n",
    "epsilon_decay = 0.999\n",
    "final_epsilon = 0.05\n",
    "\n",
    "agent = LunarLanderAgent(\n",
    "    learning_rate=learning_rate,\n",
    "    initial_epsilon=start_epsilon,\n",
    "    final_epsilon=final_epsilon,\n",
    "    epsilon_decay=epsilon_decay,\n",
    "    \n",
    "    \n",
    ")"
   ],
   "metadata": {
    "collapsed": false,
    "ExecuteTime": {
     "end_time": "2024-09-02T13:07:46.039528400Z",
     "start_time": "2024-09-02T13:07:46.035526100Z"
    }
   },
   "id": "ef93af5919d22a69",
   "execution_count": 52
  },
  {
   "cell_type": "code",
   "outputs": [],
   "source": [
    "env = gym.make(\"LunarLander-v2\", render_mode='rgb_array')\n"
   ],
   "metadata": {
    "collapsed": false,
    "ExecuteTime": {
     "end_time": "2024-09-02T13:07:46.077534800Z",
     "start_time": "2024-09-02T13:07:46.053529900Z"
    }
   },
   "id": "40360a309c0449ea",
   "execution_count": 53
  },
  {
   "cell_type": "code",
   "outputs": [],
   "source": [
    "env = gym.wrappers.RecordEpisodeStatistics(env, deque_size=n_episodes)\n",
    "env = gym.wrappers.TimeLimit(env, max_episode_steps=60)"
   ],
   "metadata": {
    "collapsed": false,
    "ExecuteTime": {
     "end_time": "2024-09-02T13:07:46.078535100Z",
     "start_time": "2024-09-02T13:07:46.072534300Z"
    }
   },
   "id": "f66e0e3d2ae896c4",
   "execution_count": 54
  },
  {
   "cell_type": "code",
   "outputs": [
    {
     "name": "stderr",
     "output_type": "stream",
     "text": [
      "100%|██████████| 1000/1000 [00:30<00:00, 32.43it/s]\n"
     ]
    }
   ],
   "source": [
    "train_td_n(agent, env, n_steps=10, n_episodes=n_episodes, )"
   ],
   "metadata": {
    "collapsed": false,
    "ExecuteTime": {
     "end_time": "2024-09-02T13:08:16.940006500Z",
     "start_time": "2024-09-02T13:07:46.089539Z"
    }
   },
   "id": "a0979b1986430066",
   "execution_count": 55
  },
  {
   "cell_type": "code",
   "outputs": [
    {
     "name": "stdout",
     "output_type": "stream",
     "text": [
      "[0 3 1 ... 0 1 0]\n"
     ]
    }
   ],
   "source": [
    "q_values = np.array([value for key, value in agent.q_values.items()])\n",
    "print(np.argmax(q_values,axis=1))\n"
   ],
   "metadata": {
    "collapsed": false,
    "ExecuteTime": {
     "end_time": "2024-09-02T13:08:16.976322600Z",
     "start_time": "2024-09-02T13:08:16.951567500Z"
    }
   },
   "id": "fa5d6e44bd8378ae",
   "execution_count": 56
  },
  {
   "cell_type": "code",
   "outputs": [
    {
     "name": "stdout",
     "output_type": "stream",
     "text": [
      " reward = -100\n",
      "step 1:  obs = [-0.5081767  -0.20327936 -0.77846485 -1.8432485   0.23200004 -0.314769\n",
      "  1.          1.        ] , reward = 11.997922958570541\n",
      " reward = -100\n"
     ]
    }
   ],
   "source": [
    "\n",
    "# Create and wrap the environment\n",
    "env = gym.make(\"LunarLander-v2\",render_mode='rgb_array')\n",
    "# env = CustomRewardWrapper(env)\n",
    "\n",
    "obs, info = env.reset()\n",
    "\n",
    "plt.ion()\n",
    "fig, ax = plt.subplots(figsize=(8,8))\n",
    "action_text = ax.text(510, 20, '', color='white', fontsize=12, bbox=dict(facecolor='blue', alpha=0.8))\n",
    "img = ax.imshow(env.render())\n",
    "actions = ['Move Up','Move Right','Move Down','Move Left']\n",
    "rewards = 0\n",
    "num_epochs= 2\n",
    "for step in range(num_epochs):\n",
    "    obs, info = env.reset()\n",
    "    done = False\n",
    "    while not done:\n",
    "        action = agent.choose_action(obs)\n",
    "        next_obs, reward, terminated, truncated, info = env.step(action)\n",
    "        rewards += reward\n",
    "        if reward >10 : \n",
    "            print(f'step {step}:  obs = {next_obs} , reward = {reward}')\n",
    "\n",
    "        frame = env.render()\n",
    "        img.set_data(frame)\n",
    "        action_text.set_text(f'Step: {actions[action] }')\n",
    "\n",
    "        fig.canvas.draw()\n",
    "        fig.canvas.flush_events()\n",
    "        done = terminated or truncated\n",
    "        if done: \n",
    "            print(f' reward = {reward}')\n",
    "\n",
    "        obs = next_obs\n",
    "\n",
    "plt.ioff()  # Turn off interactive mode\n",
    "plt.show()  # Keep the window open after the animation finishes\n",
    "plt.close()\n",
    "# env.close()"
   ],
   "metadata": {
    "collapsed": false,
    "ExecuteTime": {
     "end_time": "2024-09-02T13:08:44.538978700Z",
     "start_time": "2024-09-02T13:08:16.994078Z"
    }
   },
   "id": "795a6112a7a42623",
   "execution_count": 57
  },
  {
   "cell_type": "code",
   "outputs": [
    {
     "name": "stdout",
     "output_type": "stream",
     "text": [
      "mean episode rewards = -138.86829438994795\n"
     ]
    }
   ],
   "source": [
    "print(f'mean episode rewards = {rewards/num_epochs}')"
   ],
   "metadata": {
    "collapsed": false,
    "ExecuteTime": {
     "end_time": "2024-09-02T13:08:44.582001900Z",
     "start_time": "2024-09-02T13:08:44.555549700Z"
    }
   },
   "id": "26a84eafbb54162e",
   "execution_count": 58
  },
  {
   "cell_type": "code",
   "outputs": [
    {
     "name": "stdout",
     "output_type": "stream",
     "text": [
      "action space shape : 4\n",
      "observation space shape : Box([-1.5       -1.5       -5.        -5.        -3.1415927 -5.\n",
      " -0.        -0.       ], [1.5       1.5       5.        5.        3.1415927 5.        1.\n",
      " 1.       ], (8,), float32)\n",
      "reward range : (-inf, inf)\n",
      "\n",
      "Env metadata : {'render_modes': ['human', 'rgb_array'], 'render_fps': 50}\n"
     ]
    }
   ],
   "source": [
    "print(f'action space shape : {env.action_space.n}') # Number of possible actions is 4\n",
    "print(f'observation space shape : {env.observation_space}') \n",
    "#-------------- obesrvation is a tupe of 3 values : --------------\n",
    "#1) player cards value\n",
    "#2) dealer's face up card\n",
    "#3) usable ace for player, equal 1 if ace is considered an 11 without busting\n",
    "\n",
    "print(f'reward range : {env.reward_range}') # default reward range is set to -inf +inf\n",
    "# print(f'\\nEnv specs : {env.spec}') \n",
    "print(f'\\nEnv metadata : {env.metadata}') # render_modes adn render_fps"
   ],
   "metadata": {
    "collapsed": false,
    "ExecuteTime": {
     "end_time": "2024-09-02T13:08:44.600459700Z",
     "start_time": "2024-09-02T13:08:44.587242500Z"
    }
   },
   "id": "c44a122356184824",
   "execution_count": 59
  }
 ],
 "metadata": {
  "kernelspec": {
   "display_name": "Python 3",
   "language": "python",
   "name": "python3"
  },
  "language_info": {
   "codemirror_mode": {
    "name": "ipython",
    "version": 2
   },
   "file_extension": ".py",
   "mimetype": "text/x-python",
   "name": "python",
   "nbconvert_exporter": "python",
   "pygments_lexer": "ipython2",
   "version": "2.7.6"
  }
 },
 "nbformat": 4,
 "nbformat_minor": 5
}
