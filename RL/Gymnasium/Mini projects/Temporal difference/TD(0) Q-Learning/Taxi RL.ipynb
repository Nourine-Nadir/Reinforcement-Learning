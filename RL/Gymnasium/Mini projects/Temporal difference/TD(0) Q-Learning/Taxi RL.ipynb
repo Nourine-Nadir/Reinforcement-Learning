{
 "cells": [
  {
   "cell_type": "markdown",
   "source": [
    "# →Q-Learning\n",
    "\n",
    "It is temporal difference learning on $Q$-function\n",
    "\n",
    "$Q^{new}(s_k,a_k)=Q^{old}(s_k,a_k)+\\alpha(r_k+\\gamma \\max_a Q(s_{k+1},a)-Q^{old}(s_k,a_k))$ \n",
    "\n",
    "Off policy TD(0) learning of the quality function Q\n",
    "\n",
    "What we mean by **Off policy** is that we can take **sub-optimal** $a_k$ actions to get the reward but still **maximize** the next action in $s_{k+1}$ though, this helps to learn even when **not taking best** $a_k$ actions.\n",
    "\n",
    "The Off policy can be **confusing** since we are saying that we can take **sub-optimal** actions but there is that **term** in the update function: $max_a Q(s_{k+1},a)$\n",
    "\n",
    "**Many** policies are used in **experiments** and at the **experience replay** step we iterate through actions even if they are sub-optimal but we **assume** that the **best** actions will be taken in next steps. This is done by replaying experiments done **by us** or **importing** others and learn from them; this ensure treating **different** policies.\n",
    "\n",
    "**Exploration vs. exploitation: $\\epsilon$-greedy actions**\n",
    "\n",
    "**Random** exploration element is introduced to $Q$-learning, the popular technique is the  **$\\epsilon$-greedy.** Taking the action $a_k$ will be taken based on the current $Q$ function, with a probability $1-\\epsilon$, where $\\epsilon \\in[0,1]$. for example $\\epsilon=0.05$ there will be a 95% **probability** of taking best action and 5% **chance** of exploring a sub-optimal one. \n",
    "\n",
    "This epsilon value can be decayed as we iterate to go more **On-Policy** once we learned a good $Q$-function.\n",
    "\n",
    "$Q$ -learning applies to **discrete** action spaces $A$ and state spaces $S$ governed by a **finite** MDP. A table of $Q$ values is used to represent the $Q$ function, and thus it doesn’t **scale** well to **large** state spaces. Typically function **approximation** is used to represent the $Q$ function, such as a **neural network** in deep $Q$-learning.\n",
    "\n",
    "> Because $Q$-learning is off-policy, it is possible to learn from action-state sequences that do not use the current optimal policy. For example, it is possible to store past experiences, such as previously played games, and replay these experiences to further improve the Q function.\n",
    ">"
   ],
   "metadata": {
    "collapsed": false
   },
   "id": "a921405e4837cf78"
  },
  {
   "cell_type": "code",
   "outputs": [],
   "source": [
    "import gymnasium as gym\n",
    "from gymnasium.envs.toy_text.frozen_lake import FrozenLakeEnv\n",
    "import matplotlib\n",
    "import matplotlib.pyplot as plt\n",
    "from matplotlib.patches import Patch\n",
    "import numpy as np\n",
    "import seaborn as sns\n",
    "from tqdm import tqdm\n",
    "from collections import defaultdict # allows access to undefined keys\n",
    "matplotlib.use('TkAgg')  # or 'Qt5Agg' if you prefer Qt"
   ],
   "metadata": {
    "collapsed": true,
    "ExecuteTime": {
     "end_time": "2024-07-23T18:42:15.430344600Z",
     "start_time": "2024-07-23T18:42:14.934076700Z"
    }
   },
   "id": "initial_id",
   "execution_count": 1
  },
  {
   "cell_type": "code",
   "outputs": [],
   "source": [],
   "metadata": {
    "collapsed": false,
    "ExecuteTime": {
     "end_time": "2024-07-23T18:42:15.445735300Z",
     "start_time": "2024-07-23T18:42:15.430344600Z"
    }
   },
   "id": "45654de722988832",
   "execution_count": 2
  },
  {
   "cell_type": "code",
   "outputs": [],
   "source": [
    "class TaxiAgent():\n",
    "    def __init__(self,\n",
    "                 learning_rate:float,\n",
    "                 initial_epsilon:float,\n",
    "                 epsilon_decay:float,\n",
    "                 final_epsilon:float,\n",
    "                 discount_factor:float = 0.95,\n",
    "                 ):\n",
    "        \n",
    "    #Initialize the agent with empty dictionary of action/state values (q_values), a learning rate and an epsilon\n",
    "    # discount_factor : Is for computing the Q-value namely gamma \n",
    "        self.q_values = defaultdict(lambda: np.zeros(env.action_space.n))\n",
    "    \n",
    "        self.lr = learning_rate\n",
    "        self.epsilon = initial_epsilon\n",
    "        self.epsilon_decay = epsilon_decay\n",
    "        self.final_epsilon = final_epsilon\n",
    "        self.discount_factor = discount_factor\n",
    "        \n",
    "        self.training_error = []\n",
    "    \n",
    "    def choose_action(self, obs:tuple[int,int,bool])->int:\n",
    "        # Return the best action with a probability of (1- epsilon) \n",
    "        if np.random.random() < self.epsilon:\n",
    "            return env.action_space.sample()\n",
    "        else:\n",
    "            return int(np.argmax(self.q_values[obs]))\n",
    "    \n",
    "    def update_q_values(self,\n",
    "                        obs:tuple[int,int,bool],\n",
    "                        action:int,\n",
    "                        reward:float,\n",
    "                        terminated:bool,\n",
    "                        next_obs:tuple[int,int,bool]):\n",
    "        future_q_value = (not terminated) * np.max(self.q_values[next_obs])\n",
    "\n",
    "        temporal_diffrence = (reward + (self.discount_factor * future_q_value))- self.q_values[obs][action]\n",
    "        \n",
    "        self.q_values[obs][action] = (\n",
    "            self.q_values[obs][action] + self.lr * temporal_diffrence\n",
    "        )\n",
    "        self.training_error.append(temporal_diffrence)\n",
    "        \n",
    "    def decay_epsilon(self):\n",
    "        self.epsilon = max(self.final_epsilon, self.epsilon * self.epsilon_decay)"
   ],
   "metadata": {
    "collapsed": false,
    "ExecuteTime": {
     "end_time": "2024-07-23T18:42:15.468492500Z",
     "start_time": "2024-07-23T18:42:15.450919500Z"
    }
   },
   "id": "71382b775326e544",
   "execution_count": 3
  },
  {
   "cell_type": "code",
   "outputs": [],
   "source": [
    "learning_rate = .1\n",
    "n_episodes = 10000\n",
    "start_epsilon = 1\n",
    "epsilon_decay = 0.999\n",
    "final_epsilon = 0.05\n",
    "\n",
    "agent = TaxiAgent(\n",
    "    learning_rate=learning_rate,\n",
    "    initial_epsilon=start_epsilon,\n",
    "    final_epsilon=final_epsilon,\n",
    "    epsilon_decay=epsilon_decay,\n",
    "    \n",
    "    \n",
    ")"
   ],
   "metadata": {
    "collapsed": false,
    "ExecuteTime": {
     "end_time": "2024-07-23T18:42:15.479879300Z",
     "start_time": "2024-07-23T18:42:15.465444600Z"
    }
   },
   "id": "ef93af5919d22a69",
   "execution_count": 4
  },
  {
   "cell_type": "code",
   "outputs": [],
   "source": [
    "env = gym.make('Taxi-v3',render_mode='rgb_array')\n"
   ],
   "metadata": {
    "collapsed": false,
    "ExecuteTime": {
     "end_time": "2024-07-23T18:42:21.203641600Z",
     "start_time": "2024-07-23T18:42:21.185888700Z"
    }
   },
   "id": "40360a309c0449ea",
   "execution_count": 6
  },
  {
   "cell_type": "code",
   "outputs": [
    {
     "name": "stdout",
     "output_type": "stream",
     "text": [
      "action space shape : 6\n",
      "observation space shape : Discrete(500)\n",
      "reward range : (-inf, inf)\n",
      "\n",
      "Env metadata : {'render_modes': ['human', 'ansi', 'rgb_array'], 'render_fps': 4}\n"
     ]
    }
   ],
   "source": [
    "print(f'action space shape : {env.action_space.n}') # Number of possible actions is 4\n",
    "print(f'observation space shape : {env.observation_space}') \n",
    "#-------------- obesrvation is a tupe of 3 values : --------------\n",
    "#1) player cards value\n",
    "#2) dealer's face up card\n",
    "#3) usable ace for player, equal 1 if ace is considered an 11 without busting\n",
    "\n",
    "print(f'reward range : {env.reward_range}') # default reward range is set to -inf +inf\n",
    "# print(f'\\nEnv specs : {env.spec}') \n",
    "print(f'\\nEnv metadata : {env.metadata}') # render_modes adn render_fps"
   ],
   "metadata": {
    "collapsed": false,
    "ExecuteTime": {
     "end_time": "2024-07-23T18:43:07.641296Z",
     "start_time": "2024-07-23T18:43:07.636294700Z"
    }
   },
   "id": "7d1311c6d64ba009",
   "execution_count": 12
  },
  {
   "cell_type": "code",
   "outputs": [
    {
     "name": "stderr",
     "output_type": "stream",
     "text": [
      "100%|██████████| 10000/10000 [00:09<00:00, 1068.01it/s]\n"
     ]
    }
   ],
   "source": [
    "env = gym.wrappers.RecordEpisodeStatistics(env, deque_size=n_episodes)\n",
    "env = gym.wrappers.TimeLimit(env, max_episode_steps=60)\n",
    "\n",
    "rewards = 0 \n",
    "for episode in tqdm(range(n_episodes)):\n",
    "    \n",
    "    obs, info = env.reset()\n",
    "    done = False\n",
    "    \n",
    "    # play one episode\n",
    "    while not done:\n",
    "        action = agent.choose_action(obs)\n",
    "        next_obs, reward, terminated, truncated, info = env.step(action)\n",
    "        rewards += reward\n",
    "        # update the agent\n",
    "        agent.update_q_values(obs, action, reward, terminated, next_obs)\n",
    "\n",
    "        # update if the environment is done and the current obs\n",
    "        done = terminated or truncated\n",
    "        obs = next_obs\n",
    "\n",
    "    agent.decay_epsilon()"
   ],
   "metadata": {
    "collapsed": false,
    "ExecuteTime": {
     "end_time": "2024-07-23T18:42:33.637431300Z",
     "start_time": "2024-07-23T18:42:24.257761Z"
    }
   },
   "id": "f66e0e3d2ae896c4",
   "execution_count": 7
  },
  {
   "cell_type": "code",
   "outputs": [
    {
     "name": "stdout",
     "output_type": "stream",
     "text": [
      "[1 1 3 1 1 3 3 0 0 0 0 1 1 3 3 3 0 0 0 0 0 3 1 1 1 3 3 0 1 3 0 2 2 2 1 1 1\n",
      " 2 0 0 2 0 3 0 3 4 3 0 0 0 0 0 3 3 1 3 1 3 1 3 1 0 2 0 2 2 2 1 1 2 1 2 1 1\n",
      " 2 1 2 1 1 2 1 1 1 1 1 3 3 1 3 0 1 1 1 2 2 0 0 1 3 4 3 0 0 2 1 2 2 1 0 0 1\n",
      " 0 2 2 1 2 2 0 0 0 0 0 0 4 3 3 3 0 0 2 0 0 1 1 2 0 0 1 1 0 0 3 1 1 1 1 1 1\n",
      " 1 1 4 0 0 0 0 5 0 0 0 3 3 3 3 1 1 3 0 0 3 3 3 1 2 1 1 1 1 1 1 1 1 1 1 1 1\n",
      " 1 4 3 3 0 0 1 2 2 2 3 3 1 1 1 1 0 0 0 3 0 1 1 1 1 1 1 4 3 1 1 2 1 4 3 2 2\n",
      " 1 1 1 1 1 3 0 0 3 1 1 3 1 1 0 2 3 0 0 0 0 0 4 0 0 3 2 3 0 1 1 1 0 2 2 2 1\n",
      " 2 1 3 0 0 2 0 0 3 3 3 1 2 2 2 1 0 0 3 3 3 3 0 3 3 0 1 1 1 0 0 2 1 1 2 0 0\n",
      " 3 3 3 1 1 1 1 3 0 3 0 3 3 0 0 3 4 1 1 1 1 1 1 2 2 0 0 0 3 3 0 0 5 0 2 2 1\n",
      " 3 0 0 0 0 4 1 0 2 0 2 2 2 4 1 1 1 3 1 3 1 1 1 1 1 1 1 1 1 1 1 1 1 1 0 3 3\n",
      " 0 2 4 3 0 0 0 1 3 1 3 0 3 0 3 1 3 0 1 2 1 5 2 2 2 2 2 0 2 5 0 1 0 0]\n"
     ]
    }
   ],
   "source": [
    "q_values = np.array([value for key, value in agent.q_values.items()])\n",
    "print(np.argmax(q_values,axis=1))\n"
   ],
   "metadata": {
    "collapsed": false,
    "ExecuteTime": {
     "end_time": "2024-07-23T18:42:33.687644900Z",
     "start_time": "2024-07-23T18:42:33.653972800Z"
    }
   },
   "id": "fa5d6e44bd8378ae",
   "execution_count": 8
  },
  {
   "cell_type": "code",
   "outputs": [
    {
     "name": "stderr",
     "output_type": "stream",
     "text": [
      "C:\\Users\\Click\\PycharmProjects\\DeepLearning\\.venv\\lib\\site-packages\\gymnasium\\core.py:311: UserWarning: \u001B[33mWARN: env.return_queue to get variables from other wrappers is deprecated and will be removed in v1.0, to get this variable you can do `env.unwrapped.return_queue` for environment variables or `env.get_wrapper_attr('return_queue')` that will search the reminding wrappers.\u001B[0m\n",
      "  logger.warn(\n",
      "C:\\Users\\Click\\PycharmProjects\\DeepLearning\\.venv\\lib\\site-packages\\gymnasium\\core.py:311: UserWarning: \u001B[33mWARN: env.length_queue to get variables from other wrappers is deprecated and will be removed in v1.0, to get this variable you can do `env.unwrapped.length_queue` for environment variables or `env.get_wrapper_attr('length_queue')` that will search the reminding wrappers.\u001B[0m\n",
      "  logger.warn(\n"
     ]
    }
   ],
   "source": [
    "rolling_length = 500\n",
    "fig, axs = plt.subplots(ncols=3, figsize=(12, 5))\n",
    "axs[0].set_title(\"Episode rewards\")\n",
    "# compute and assign a rolling average of the data to provide a smoother graph\n",
    "reward_moving_average = (\n",
    "    np.convolve(\n",
    "        np.array(env.return_queue).flatten(), np.ones(rolling_length), mode=\"valid\"\n",
    "    )\n",
    "    / rolling_length\n",
    ")\n",
    "axs[0].plot(range(len(reward_moving_average)), reward_moving_average)\n",
    "axs[1].set_title(\"Episode lengths\")\n",
    "length_moving_average = (\n",
    "    np.convolve(\n",
    "        np.array(env.length_queue).flatten(), np.ones(rolling_length), mode=\"same\"\n",
    "    )\n",
    "    / rolling_length\n",
    ")\n",
    "axs[1].plot(range(len(length_moving_average)), length_moving_average)\n",
    "axs[2].set_title(\"Training Error\")\n",
    "training_error_moving_average = (\n",
    "    np.convolve(np.array(agent.training_error), np.ones(rolling_length), mode=\"same\")\n",
    "    / rolling_length\n",
    ")\n",
    "axs[2].plot(range(len(training_error_moving_average)), training_error_moving_average)\n",
    "plt.tight_layout()\n",
    "plt.show()"
   ],
   "metadata": {
    "collapsed": false,
    "ExecuteTime": {
     "end_time": "2024-07-23T18:42:40.519280500Z",
     "start_time": "2024-07-23T18:42:33.686646100Z"
    }
   },
   "id": "29b323d24413638a",
   "execution_count": 9
  },
  {
   "cell_type": "code",
   "outputs": [
    {
     "name": "stdout",
     "output_type": "stream",
     "text": [
      "total rewards = -198083\n"
     ]
    }
   ],
   "source": [
    "print(f'total rewards = {rewards}')\n"
   ],
   "metadata": {
    "collapsed": false,
    "ExecuteTime": {
     "end_time": "2024-07-23T18:42:40.566854900Z",
     "start_time": "2024-07-23T18:42:40.536801200Z"
    }
   },
   "id": "7c08f6b5a0cde63e",
   "execution_count": 10
  },
  {
   "cell_type": "code",
   "outputs": [
    {
     "name": "stdout",
     "output_type": "stream",
     "text": [
      "step 0:  obs = 364 , reward = -1\n",
      "step 0:  obs = 264 , reward = -1\n",
      "step 0:  obs = 164 , reward = -1\n",
      "step 0:  obs = 64 , reward = -1\n",
      "step 0:  obs = 84 , reward = -1\n",
      "step 0:  obs = 96 , reward = -1\n",
      "step 0:  obs = 76 , reward = -1\n",
      "step 0:  obs = 176 , reward = -1\n",
      "step 0:  obs = 156 , reward = -1\n",
      "step 0:  obs = 256 , reward = -1\n",
      "step 0:  obs = 236 , reward = -1\n",
      "step 0:  obs = 216 , reward = -1\n",
      "step 0:  obs = 216 , reward = -10\n",
      "step 0:  obs = 116 , reward = -1\n",
      "step 0:  obs = 16 , reward = -1\n",
      "step 0:  obs = 0 , reward = 20\n",
      "step 1:  obs = 472 , reward = -1\n",
      "step 1:  obs = 476 , reward = -1\n",
      "step 1:  obs = 376 , reward = -1\n",
      "step 1:  obs = 276 , reward = -1\n",
      "step 1:  obs = 256 , reward = -1\n",
      "step 1:  obs = 236 , reward = -1\n",
      "step 1:  obs = 216 , reward = -1\n",
      "step 1:  obs = 116 , reward = -1\n",
      "step 1:  obs = 16 , reward = -1\n",
      "step 1:  obs = 0 , reward = 20\n",
      "step 2:  obs = 207 , reward = -1\n",
      "step 2:  obs = 227 , reward = -1\n",
      "step 2:  obs = 227 , reward = -10\n",
      "step 2:  obs = 247 , reward = -1\n",
      "step 2:  obs = 267 , reward = -1\n",
      "step 2:  obs = 287 , reward = -1\n",
      "step 2:  obs = 187 , reward = -1\n",
      "step 2:  obs = 87 , reward = -1\n",
      "step 2:  obs = 99 , reward = -1\n",
      "step 2:  obs = 199 , reward = -1\n",
      "step 2:  obs = 179 , reward = -1\n",
      "step 2:  obs = 279 , reward = -1\n",
      "step 2:  obs = 379 , reward = -1\n",
      "step 2:  obs = 479 , reward = -1\n",
      "step 2:  obs = 475 , reward = 20\n",
      "step 3:  obs = 308 , reward = -1\n",
      "step 3:  obs = 408 , reward = -1\n",
      "step 3:  obs = 416 , reward = -1\n",
      "step 3:  obs = 316 , reward = -1\n",
      "step 3:  obs = 216 , reward = -1\n",
      "step 3:  obs = 116 , reward = -1\n",
      "step 3:  obs = 16 , reward = -1\n",
      "step 3:  obs = 0 , reward = 20\n",
      "step 4:  obs = 386 , reward = -1\n",
      "step 4:  obs = 286 , reward = -1\n",
      "step 4:  obs = 186 , reward = -1\n",
      "step 4:  obs = 86 , reward = -1\n",
      "step 4:  obs = 98 , reward = -1\n",
      "step 4:  obs = 78 , reward = -1\n",
      "step 4:  obs = 178 , reward = -1\n",
      "step 4:  obs = 158 , reward = -1\n",
      "step 4:  obs = 258 , reward = -1\n",
      "step 4:  obs = 238 , reward = -1\n",
      "step 4:  obs = 218 , reward = -1\n",
      "step 4:  obs = 318 , reward = -1\n",
      "step 4:  obs = 418 , reward = -1\n",
      "step 4:  obs = 410 , reward = 20\n",
      "step 5:  obs = 66 , reward = -1\n",
      "step 5:  obs = 86 , reward = -1\n",
      "step 5:  obs = 98 , reward = -1\n",
      "step 5:  obs = 198 , reward = -1\n",
      "step 5:  obs = 298 , reward = -1\n",
      "step 5:  obs = 278 , reward = -1\n",
      "step 5:  obs = 258 , reward = -1\n",
      "step 5:  obs = 238 , reward = -1\n",
      "step 5:  obs = 218 , reward = -1\n",
      "step 5:  obs = 318 , reward = -1\n",
      "step 5:  obs = 418 , reward = -1\n",
      "step 5:  obs = 318 , reward = -1\n",
      "step 5:  obs = 418 , reward = -1\n",
      "step 5:  obs = 410 , reward = 20\n",
      "step 6:  obs = 164 , reward = -1\n",
      "step 6:  obs = 64 , reward = -1\n",
      "step 6:  obs = 84 , reward = -1\n",
      "step 6:  obs = 96 , reward = -1\n",
      "step 6:  obs = 76 , reward = -1\n",
      "step 6:  obs = 176 , reward = -1\n",
      "step 6:  obs = 156 , reward = -1\n",
      "step 6:  obs = 256 , reward = -1\n",
      "step 6:  obs = 236 , reward = -1\n",
      "step 6:  obs = 216 , reward = -1\n",
      "step 6:  obs = 116 , reward = -1\n",
      "step 6:  obs = 16 , reward = -1\n",
      "step 6:  obs = 0 , reward = 20\n",
      "step 7:  obs = 307 , reward = -1\n",
      "step 7:  obs = 207 , reward = -1\n",
      "step 7:  obs = 227 , reward = -1\n",
      "step 7:  obs = 247 , reward = -1\n",
      "step 7:  obs = 267 , reward = -1\n",
      "step 7:  obs = 287 , reward = -1\n",
      "step 7:  obs = 187 , reward = -1\n",
      "step 7:  obs = 87 , reward = -1\n",
      "step 7:  obs = 99 , reward = -1\n",
      "step 7:  obs = 199 , reward = -1\n",
      "step 7:  obs = 179 , reward = -1\n",
      "step 7:  obs = 279 , reward = -1\n",
      "step 7:  obs = 379 , reward = -1\n",
      "step 7:  obs = 479 , reward = -1\n",
      "step 7:  obs = 475 , reward = 20\n",
      "step 8:  obs = 88 , reward = -10\n",
      "step 8:  obs = 188 , reward = -1\n",
      "step 8:  obs = 288 , reward = -1\n",
      "step 8:  obs = 268 , reward = -1\n",
      "step 8:  obs = 248 , reward = -1\n",
      "step 8:  obs = 228 , reward = -1\n",
      "step 8:  obs = 208 , reward = -1\n",
      "step 8:  obs = 308 , reward = -1\n",
      "step 8:  obs = 408 , reward = -1\n",
      "step 8:  obs = 416 , reward = -1\n",
      "step 8:  obs = 316 , reward = -1\n",
      "step 8:  obs = 216 , reward = -1\n",
      "step 8:  obs = 116 , reward = -1\n",
      "step 8:  obs = 16 , reward = -1\n",
      "step 8:  obs = 0 , reward = 20\n",
      "step 9:  obs = 249 , reward = -1\n",
      "step 9:  obs = 229 , reward = -1\n",
      "step 9:  obs = 209 , reward = -1\n",
      "step 9:  obs = 209 , reward = -10\n",
      "step 9:  obs = 309 , reward = -1\n",
      "step 9:  obs = 409 , reward = -1\n",
      "step 9:  obs = 417 , reward = -1\n",
      "step 9:  obs = 317 , reward = -1\n",
      "step 9:  obs = 217 , reward = -1\n",
      "step 9:  obs = 237 , reward = -1\n",
      "step 9:  obs = 257 , reward = -1\n",
      "step 9:  obs = 277 , reward = -1\n",
      "step 9:  obs = 297 , reward = -1\n",
      "step 9:  obs = 197 , reward = -1\n",
      "step 9:  obs = 97 , reward = -1\n",
      "step 9:  obs = 85 , reward = 20\n"
     ]
    }
   ],
   "source": [
    "\n",
    "\n",
    "# env = gym.make(\"FrozenLake-v1\", render_mode=\"rgb_array\")\n",
    "# env = gym.wrappers.TimeLimit(env, max_episode_steps=100)\n",
    "obs, info = env.reset()\n",
    "\n",
    "plt.ion()\n",
    "fig, ax = plt.subplots(figsize=(8,8))\n",
    "action_text = ax.text(510, 20, '', color='white', fontsize=12, bbox=dict(facecolor='blue', alpha=0.8))\n",
    "img = ax.imshow(env.render())\n",
    "rewards = 0\n",
    "num_epochs= 10\n",
    "for step in range(num_epochs):\n",
    "    obs, info = env.reset()\n",
    "    done = False\n",
    "    while not done:\n",
    "        action = agent.choose_action(obs)\n",
    "        next_obs, reward, terminated, truncated, info = env.step(action)\n",
    "        rewards += reward\n",
    "        \n",
    "        print(f'step {step}:  obs = {next_obs} , reward = {reward}')\n",
    "        frame = env.render()\n",
    "        img.set_data(frame)\n",
    "        action_text.set_text(f'Step: {action }')\n",
    "\n",
    "        fig.canvas.draw()\n",
    "        fig.canvas.flush_events()\n",
    "        plt.pause(.05)\n",
    "        done = terminated or truncated\n",
    "        obs = next_obs\n",
    "\n",
    "plt.ioff()  # Turn off interactive mode\n",
    "# plt.show()  # Keep the window open after the animation finishes\n",
    "plt.close()\n",
    "env.close()"
   ],
   "metadata": {
    "collapsed": false,
    "ExecuteTime": {
     "end_time": "2024-07-23T18:47:15.846872400Z",
     "start_time": "2024-07-23T18:47:00.973460200Z"
    }
   },
   "id": "795a6112a7a42623",
   "execution_count": 15
  },
  {
   "cell_type": "code",
   "outputs": [
    {
     "name": "stdout",
     "output_type": "stream",
     "text": [
      "total rewards = 38\n"
     ]
    }
   ],
   "source": [
    "print(f'total rewards = {rewards}')"
   ],
   "metadata": {
    "collapsed": false,
    "ExecuteTime": {
     "end_time": "2024-07-23T18:47:18.139334300Z",
     "start_time": "2024-07-23T18:47:18.121913600Z"
    }
   },
   "id": "26a84eafbb54162e",
   "execution_count": 17
  }
 ],
 "metadata": {
  "kernelspec": {
   "display_name": "Python 3",
   "language": "python",
   "name": "python3"
  },
  "language_info": {
   "codemirror_mode": {
    "name": "ipython",
    "version": 2
   },
   "file_extension": ".py",
   "mimetype": "text/x-python",
   "name": "python",
   "nbconvert_exporter": "python",
   "pygments_lexer": "ipython2",
   "version": "2.7.6"
  }
 },
 "nbformat": 4,
 "nbformat_minor": 5
}
